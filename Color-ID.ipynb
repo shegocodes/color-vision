{
 "cells": [
  {
   "cell_type": "markdown",
   "id": "29383413",
   "metadata": {},
   "source": [
    "# Install all necessary packages"
   ]
  },
  {
   "cell_type": "code",
   "execution_count": 1,
   "id": "22320cf5",
   "metadata": {},
   "outputs": [],
   "source": [
    "#!pip install pandas Pillow opencv-python matplotlib"
   ]
  },
  {
   "cell_type": "markdown",
   "id": "d9b1c38d",
   "metadata": {},
   "source": [
    "# Import all necessary libraries"
   ]
  },
  {
   "cell_type": "code",
   "execution_count": 2,
   "id": "0426e766",
   "metadata": {},
   "outputs": [],
   "source": [
    "import os\n",
    "import pandas as pd"
   ]
  },
  {
   "cell_type": "markdown",
   "id": "43ad1403",
   "metadata": {},
   "source": [
    "# Read in colors datafile"
   ]
  },
  {
   "cell_type": "code",
   "execution_count": 3,
   "id": "4b034815",
   "metadata": {},
   "outputs": [
    {
     "data": {
      "text/html": [
       "<div>\n",
       "<style scoped>\n",
       "    .dataframe tbody tr th:only-of-type {\n",
       "        vertical-align: middle;\n",
       "    }\n",
       "\n",
       "    .dataframe tbody tr th {\n",
       "        vertical-align: top;\n",
       "    }\n",
       "\n",
       "    .dataframe thead th {\n",
       "        text-align: right;\n",
       "    }\n",
       "</style>\n",
       "<table border=\"1\" class=\"dataframe\">\n",
       "  <thead>\n",
       "    <tr style=\"text-align: right;\">\n",
       "      <th></th>\n",
       "      <th>color</th>\n",
       "      <th>code</th>\n",
       "      <th>R</th>\n",
       "      <th>G</th>\n",
       "      <th>B</th>\n",
       "    </tr>\n",
       "  </thead>\n",
       "  <tbody>\n",
       "    <tr>\n",
       "      <th>0</th>\n",
       "      <td>Air Force Blue (Raf)</td>\n",
       "      <td>#5d8aa8</td>\n",
       "      <td>93</td>\n",
       "      <td>138</td>\n",
       "      <td>168</td>\n",
       "    </tr>\n",
       "    <tr>\n",
       "      <th>1</th>\n",
       "      <td>Air Force Blue (Usaf)</td>\n",
       "      <td>#00308f</td>\n",
       "      <td>0</td>\n",
       "      <td>48</td>\n",
       "      <td>143</td>\n",
       "    </tr>\n",
       "    <tr>\n",
       "      <th>2</th>\n",
       "      <td>Air Superiority Blue</td>\n",
       "      <td>#72a0c1</td>\n",
       "      <td>114</td>\n",
       "      <td>160</td>\n",
       "      <td>193</td>\n",
       "    </tr>\n",
       "    <tr>\n",
       "      <th>3</th>\n",
       "      <td>Alabama Crimson</td>\n",
       "      <td>#a32638</td>\n",
       "      <td>163</td>\n",
       "      <td>38</td>\n",
       "      <td>56</td>\n",
       "    </tr>\n",
       "    <tr>\n",
       "      <th>4</th>\n",
       "      <td>Alice Blue</td>\n",
       "      <td>#f0f8ff</td>\n",
       "      <td>240</td>\n",
       "      <td>248</td>\n",
       "      <td>255</td>\n",
       "    </tr>\n",
       "    <tr>\n",
       "      <th>...</th>\n",
       "      <td>...</td>\n",
       "      <td>...</td>\n",
       "      <td>...</td>\n",
       "      <td>...</td>\n",
       "      <td>...</td>\n",
       "    </tr>\n",
       "    <tr>\n",
       "      <th>860</th>\n",
       "      <td>Yellow Orange</td>\n",
       "      <td>#ffae42</td>\n",
       "      <td>255</td>\n",
       "      <td>174</td>\n",
       "      <td>66</td>\n",
       "    </tr>\n",
       "    <tr>\n",
       "      <th>861</th>\n",
       "      <td>Yellow (Process)</td>\n",
       "      <td>#ffef00</td>\n",
       "      <td>255</td>\n",
       "      <td>239</td>\n",
       "      <td>0</td>\n",
       "    </tr>\n",
       "    <tr>\n",
       "      <th>862</th>\n",
       "      <td>Yellow (Ryb)</td>\n",
       "      <td>#fefe33</td>\n",
       "      <td>254</td>\n",
       "      <td>254</td>\n",
       "      <td>51</td>\n",
       "    </tr>\n",
       "    <tr>\n",
       "      <th>863</th>\n",
       "      <td>Zaffre</td>\n",
       "      <td>#0014a8</td>\n",
       "      <td>0</td>\n",
       "      <td>20</td>\n",
       "      <td>168</td>\n",
       "    </tr>\n",
       "    <tr>\n",
       "      <th>864</th>\n",
       "      <td>Zinnwaldite Brown</td>\n",
       "      <td>#2c1608</td>\n",
       "      <td>44</td>\n",
       "      <td>22</td>\n",
       "      <td>8</td>\n",
       "    </tr>\n",
       "  </tbody>\n",
       "</table>\n",
       "<p>865 rows × 5 columns</p>\n",
       "</div>"
      ],
      "text/plain": [
       "                     color     code    R    G    B\n",
       "0     Air Force Blue (Raf)  #5d8aa8   93  138  168\n",
       "1    Air Force Blue (Usaf)  #00308f    0   48  143\n",
       "2     Air Superiority Blue  #72a0c1  114  160  193\n",
       "3          Alabama Crimson  #a32638  163   38   56\n",
       "4               Alice Blue  #f0f8ff  240  248  255\n",
       "..                     ...      ...  ...  ...  ...\n",
       "860          Yellow Orange  #ffae42  255  174   66\n",
       "861       Yellow (Process)  #ffef00  255  239    0\n",
       "862           Yellow (Ryb)  #fefe33  254  254   51\n",
       "863                 Zaffre  #0014a8    0   20  168\n",
       "864      Zinnwaldite Brown  #2c1608   44   22    8\n",
       "\n",
       "[865 rows x 5 columns]"
      ]
     },
     "execution_count": 3,
     "metadata": {},
     "output_type": "execute_result"
    }
   ],
   "source": [
    "colors = pd.read_csv('colors.csv')\n",
    "colors"
   ]
  },
  {
   "cell_type": "markdown",
   "id": "ab2aee25",
   "metadata": {},
   "source": [
    "# Define image path"
   ]
  },
  {
   "cell_type": "code",
   "execution_count": 4,
   "id": "4c1096fc",
   "metadata": {},
   "outputs": [],
   "source": [
    "#image_path = 'images/flower.jpeg'\n",
    "#image_path = 'images/monroe.jpeg'\n",
    "#image_path = 'images/ombre.jpeg'\n",
    "#image_path = 'images/vermeer.jpeg'\n",
    "image_path = 'images/warhol.jpeg'"
   ]
  },
  {
   "cell_type": "markdown",
   "id": "fe544b26",
   "metadata": {},
   "source": [
    "# Display image"
   ]
  },
  {
   "cell_type": "code",
   "execution_count": 5,
   "id": "41d781aa",
   "metadata": {},
   "outputs": [
    {
     "data": {
      "text/plain": [
       "<matplotlib.image.AxesImage at 0x7f9e011b3100>"
      ]
     },
     "execution_count": 5,
     "metadata": {},
     "output_type": "execute_result"
    },
    {
     "data": {
      "image/png": "[encoded data removed]",
      "text/plain": [
       "<Figure size 640x480 with 1 Axes>"
      ]
     },
     "metadata": {},
     "output_type": "display_data"
    }
   ],
   "source": [
    "import cv2\n",
    "import matplotlib.pyplot as plt\n",
    "\n",
    "# Plot...\n",
    "original_image = cv2.imread(image_path)\n",
    "original_image = original_image[:, :, ::-1]\n",
    "plt.imshow(original_image)"
   ]
  },
  {
   "cell_type": "markdown",
   "id": "a6b44e11",
   "metadata": {},
   "source": [
    "# Simply running this built in method did not work too well for me..."
   ]
  },
  {
   "cell_type": "code",
   "execution_count": 6,
   "id": "930321c1",
   "metadata": {},
   "outputs": [],
   "source": [
    "from PIL import Image\n",
    "img = Image.open(image_path)\n",
    "detected_colors = img.convert('RGB').getcolors(maxcolors=256)\n",
    "detected_colors"
   ]
  },
  {
   "cell_type": "markdown",
   "id": "9401cf5c",
   "metadata": {},
   "source": [
    "# My Solution..."
   ]
  },
  {
   "cell_type": "code",
   "execution_count": 7,
   "id": "992b6998",
   "metadata": {},
   "outputs": [],
   "source": [
    "def resize_image(width, height, threshold):\n",
    "    \"\"\"\n",
    "    Function takes in an image's original dimensions and returns the \n",
    "    new width and height while maintaining its aspect ratio where \n",
    "    both are below the threshold. Purpose is to reduce runtime and \n",
    "    not distort the original image too much. \n",
    "    \n",
    "    Parameters\n",
    "    ----------\n",
    "    width : int\n",
    "        original width of image\n",
    "    height : int \n",
    "        original height of image\n",
    "    threshold : int\n",
    "        max dimension size for both width and height\n",
    "    \"\"\"\n",
    "    if (width > threshold) or (height > threshold):\n",
    "        max_dim = max(width, height)\n",
    "        if height == max_dim:\n",
    "            new_width = int((width * threshold) / height)\n",
    "            new_height = threshold\n",
    "        if width == max_dim:\n",
    "            new_height = int((height * threshold) / width)\n",
    "            new_width = threshold\n",
    "        return new_height, new_width\n",
    "    else: return height, width"
   ]
  },
  {
   "cell_type": "code",
   "execution_count": 8,
   "id": "ac00059a",
   "metadata": {},
   "outputs": [],
   "source": [
    "def detect_colors(image_path):\n",
    "    \"\"\"\n",
    "    Function returns colors detected in image. \n",
    "    \n",
    "    Parameters\n",
    "    ----------\n",
    "    image_path : str\n",
    "        path to imagefile for detection\n",
    "        \n",
    "    Return\n",
    "    ------\n",
    "    sorted list of tuples (color, total number detections) \n",
    "    \"\"\"\n",
    "    \n",
    "    # Read image\n",
    "    image = Image.open(image_path)\n",
    "    \n",
    "    # Convert image into RGB\n",
    "    image = image.convert('RGB')\n",
    "\n",
    "    # Get width and height of image\n",
    "    width, height = image.size\n",
    "    print(f'Original dimensions: {width} x {height}')\n",
    "    \n",
    "    # Resize image to improve runtime\n",
    "    width, height = resize_image(width, height, threshold=100)\n",
    "    print(f'New dimensions: {width} x {height}')\n",
    "    image = image.resize((width, height))\n",
    " \n",
    "    # Iterate through each pixel\n",
    "    detected_colors = {} # hash-map\n",
    "    for x in range(0, width):\n",
    "        for y in range(0, height):\n",
    "            # r,g,b value of pixel\n",
    "            r, g, b = image.getpixel((x, y))\n",
    "            rgb = f'{r}:{g}:{b}'\n",
    "            if rgb in detected_colors:\n",
    "                detected_colors[rgb] += 1\n",
    "            else: \n",
    "                detected_colors[rgb] = 1\n",
    " \n",
    "    # Sort colors from most common to least common\n",
    "    detected_colors = sorted(detected_colors.items(), key=lambda x:x[1], reverse=True)\n",
    "\n",
    "    return detected_colors"
   ]
  },
  {
   "cell_type": "code",
   "execution_count": 9,
   "id": "03c857eb",
   "metadata": {
    "scrolled": true
   },
   "outputs": [
    {
     "name": "stdout",
     "output_type": "stream",
     "text": [
      "Original dimensions: 687 x 699\n",
      "New dimensions: 100 x 98\n"
     ]
    },
    {
     "data": {
      "text/plain": [
       "[('140:203:193', 85),\n",
       " ('139:202:192', 81),\n",
       " ('137:201:189', 46),\n",
       " ('142:203:194', 42),\n",
       " ('140:203:191', 42),\n",
       " ('140:203:192', 41),\n",
       " ('139:202:190', 37),\n",
       " ('141:202:193', 33),\n",
       " ('141:204:194', 32),\n",
       " ('144:204:197', 30),\n",
       " ('140:201:192', 28),\n",
       " ('146:206:200', 27),\n",
       " ('142:203:196', 26),\n",
       " ('142:203:195', 24),\n",
       " ('138:201:189', 24),\n",
       " ('141:204:193', 22),\n",
       " ('138:201:191', 22),\n",
       " ('145:205:198', 22),\n",
       " ('147:203:191', 21),\n",
       " ('142:204:192', 20),\n",
       " ('230:187:60', 19),\n",
       " ('139:202:191', 18),\n",
       " ('144:204:196', 18),\n",
       " ('138:201:192', 18),\n",
       " ('143:204:196', 17),\n",
       " ('140:201:190', 17),\n",
       " ('140:202:191', 16),\n",
       " ('141:204:192', 16),\n",
       " ('143:203:196', 15),\n",
       " ('139:200:191', 15),\n",
       " ('145:205:197', 15),\n",
       " ('145:204:191', 14),\n",
       " ('141:202:191', 14),\n",
       " ('140:202:193', 14),\n",
       " ('137:200:190', 14),\n",
       " ('144:204:195', 14),\n",
       " ('229:186:59', 14),\n",
       " ('146:202:190', 14),\n",
       " ('143:204:197', 13),\n",
       " ('136:200:187', 13),\n",
       " ('137:200:191', 13),\n",
       " ('146:206:199', 13),\n",
       " ('146:205:196', 12),\n",
       " ('142:203:192', 12),\n",
       " ('141:203:194', 12),\n",
       " ('142:203:193', 12),\n",
       " ('141:204:195', 12),\n",
       " ('138:201:190', 12),\n",
       " ('140:203:194', 12),\n",
       " ('237:144:155', 12),\n",
       " ('139:200:189', 11),\n",
       " ('139:201:190', 11),\n",
       " ('140:202:195', 11),\n",
       " ('240:147:156', 11),\n",
       " ('241:148:157', 11),\n",
       " ('141:202:194', 10),\n",
       " ('141:203:193', 10),\n",
       " ('136:200:188', 10),\n",
       " ('141:203:191', 10),\n",
       " ('138:200:191', 10),\n",
       " ('141:204:196', 10),\n",
       " ('145:205:199', 10),\n",
       " ('145:205:196', 10),\n",
       " ('137:201:188', 10),\n",
       " ('138:202:190', 10),\n",
       " ('139:201:196', 10),\n",
       " ('147:207:201', 10),\n",
       " ('142:204:193', 9),\n",
       " ('139:200:190', 9),\n",
       " ('142:202:195', 9),\n",
       " ('141:202:192', 9),\n",
       " ('138:200:189', 9),\n",
       " ('139:201:191', 9),\n",
       " ('139:202:188', 9),\n",
       " ('143:203:195', 9),\n",
       " ('141:203:196', 9),\n",
       " ('229:186:58', 9),\n",
       " ('234:144:152', 9),\n",
       " ('245:153:159', 9),\n",
       " ('239:149:154', 9),\n",
       " ('244:149:156', 9),\n",
       " ('236:144:152', 9),\n",
       " ('146:206:198', 9),\n",
       " ('146:204:192', 9),\n",
       " ('146:205:194', 9),\n",
       " ('143:204:194', 8),\n",
       " ('143:204:193', 8),\n",
       " ('141:203:189', 8),\n",
       " ('140:201:191', 8),\n",
       " ('140:203:195', 8),\n",
       " ('139:201:192', 8),\n",
       " ('139:201:195', 8),\n",
       " ('227:184:57', 8),\n",
       " ('238:146:149', 8),\n",
       " ('228:185:58', 8),\n",
       " ('240:147:157', 8),\n",
       " ('223:180:53', 8),\n",
       " ('231:141:148', 8),\n",
       " ('148:204:194', 8),\n",
       " ('236:143:154', 8),\n",
       " ('147:206:200', 8),\n",
       " ('147:203:193', 8),\n",
       " ('149:205:198', 8),\n",
       " ('141:202:195', 7),\n",
       " ('143:204:192', 7),\n",
       " ('144:204:194', 7),\n",
       " ('139:201:189', 7),\n",
       " ('135:199:186', 7),\n",
       " ('138:200:188', 7),\n",
       " ('138:202:189', 7),\n",
       " ('144:203:190', 7),\n",
       " ('139:202:193', 7),\n",
       " ('144:205:197', 7),\n",
       " ('228:185:59', 7),\n",
       " ('227:184:58', 7),\n",
       " ('230:187:58', 7),\n",
       " ('225:182:55', 7),\n",
       " ('140:202:194', 7),\n",
       " ('233:143:150', 7),\n",
       " ('244:152:160', 7),\n",
       " ('239:146:154', 7),\n",
       " ('240:148:153', 7),\n",
       " ('240:147:158', 7),\n",
       " ('234:143:153', 7),\n",
       " ('231:188:59', 7),\n",
       " ('225:182:54', 7),\n",
       " ('236:144:151', 7),\n",
       " ('224:181:54', 7),\n",
       " ('231:189:58', 7),\n",
       " ('239:146:157', 7),\n",
       " ('237:145:151', 7),\n",
       " ('238:146:152', 7),\n",
       " ('147:204:193', 7),\n",
       " ('143:204:195', 6),\n",
       " ('142:205:197', 6),\n",
       " ('141:203:192', 6),\n",
       " ('140:202:188', 6),\n",
       " ('141:203:190', 6),\n",
       " ('142:204:195', 6),\n",
       " ('137:201:190', 6),\n",
       " ('136:199:190', 6),\n",
       " ('142:204:194', 6),\n",
       " ('146:204:191', 6),\n",
       " ('146:204:193', 6),\n",
       " ('139:201:194', 6),\n",
       " ('143:203:194', 6),\n",
       " ('140:202:192', 6),\n",
       " ('133:196:184', 6),\n",
       " ('233:189:61', 6),\n",
       " ('144:204:198', 6),\n",
       " ('225:182:56', 6),\n",
       " ('229:186:57', 6),\n",
       " ('226:182:53', 6),\n",
       " ('225:181:52', 6),\n",
       " ('238:145:156', 6),\n",
       " ('241:148:159', 6),\n",
       " ('236:144:150', 6),\n",
       " ('231:141:151', 6),\n",
       " ('146:205:198', 6),\n",
       " ('240:147:153', 6),\n",
       " ('241:149:155', 6),\n",
       " ('239:149:156', 6),\n",
       " ('238:145:154', 6),\n",
       " ('243:149:156', 6),\n",
       " ('228:139:149', 6),\n",
       " ('244:152:158', 6),\n",
       " ('225:182:53', 6),\n",
       " ('239:147:156', 6),\n",
       " ('230:140:148', 6),\n",
       " ('235:146:154', 6),\n",
       " ('241:148:158', 6),\n",
       " ('239:149:157', 6),\n",
       " ('149:205:196', 6),\n",
       " ('147:207:200', 6),\n",
       " ('146:205:195', 6),\n",
       " ('147:203:192', 6),\n",
       " ('148:204:196', 6),\n",
       " ('147:205:195', 6),\n",
       " ('145:203:190', 6),\n",
       " ('145:205:195', 6),\n",
       " ('144:205:194', 5),\n",
       " ('144:205:193', 5),\n",
       " ('140:200:191', 5),\n",
       " ('142:202:196', 5),\n",
       " ('141:205:196', 5),\n",
       " ('142:203:191', 5),\n",
       " ('137:200:189', 5),\n",
       " ('136:198:188', 5),\n",
       " ('135:198:188', 5),\n",
       " ('140:203:189', 5),\n",
       " ('136:200:186', 5),\n",
       " ('134:199:186', 5),\n",
       " ('137:198:189', 5),\n",
       " ('140:204:189', 5),\n",
       " ('139:200:187', 5),\n",
       " ('137:201:187', 5),\n",
       " ('138:202:192', 5),\n",
       " ('148:204:195', 5),\n",
       " ('146:202:192', 5),\n",
       " ('140:201:194', 5),\n",
       " ('137:200:187', 5),\n",
       " ('137:200:188', 5),\n",
       " ('225:182:57', 5),\n",
       " ('136:199:189', 5),\n",
       " ('141:203:198', 5),\n",
       " ('138:201:188', 5),\n",
       " ('228:185:57', 5),\n",
       " ('230:187:59', 5),\n",
       " ('220:177:52', 5),\n",
       " ('230:188:58', 5),\n",
       " ('42:38:33', 5),\n",
       " ('230:187:57', 5),\n",
       " ('232:190:58', 5),\n",
       " ('143:203:197', 5),\n",
       " ('227:182:52', 5),\n",
       " ('228:185:60', 5),\n",
       " ('139:203:191', 5),\n",
       " ('148:205:199', 5),\n",
       " ('239:150:157', 5),\n",
       " ('230:141:148', 5),\n",
       " ('243:152:160', 5),\n",
       " ('239:146:156', 5),\n",
       " ('232:142:150', 5),\n",
       " ('243:151:159', 5),\n",
       " ('232:142:151', 5),\n",
       " ('241:148:155', 5),\n",
       " ('238:146:153', 5),\n",
       " ('238:148:155', 5),\n",
       " ('237:145:153', 5),\n",
       " ('228:138:145', 5),\n",
       " ('148:205:198', 5),\n",
       " ('240:148:152', 5),\n",
       " ('40:32:28', 5),\n",
       " ('232:142:149', 5),\n",
       " ('223:178:49', 5),\n",
       " ('240:150:156', 5),\n",
       " ('238:148:157', 5),\n",
       " ('233:188:58', 5),\n",
       " ('220:177:50', 5),\n",
       " ('229:184:54', 5),\n",
       " ('238:145:152', 5),\n",
       " ('232:141:149', 5),\n",
       " ('239:147:152', 5),\n",
       " ('224:181:53', 5),\n",
       " ('241:149:154', 5),\n",
       " ('238:146:150', 5),\n",
       " ('237:145:152', 5),\n",
       " ('148:206:198', 5),\n",
       " ('146:206:197', 5),\n",
       " ('143:206:198', 5),\n",
       " ('147:204:191', 5),\n",
       " ('147:204:194', 5),\n",
       " ('140:204:196', 5),\n",
       " ('145:201:189', 5),\n",
       " ('140:202:197', 5),\n",
       " ('142:197:187', 4),\n",
       " ('142:201:193', 4),\n",
       " ('142:205:195', 4),\n",
       " ('145:204:193', 4),\n",
       " ('145:204:192', 4),\n",
       " ('142:202:191', 4),\n",
       " ('138:199:188', 4),\n",
       " ('142:204:190', 4),\n",
       " ('135:198:187', 4),\n",
       " ('139:202:189', 4),\n",
       " ('140:202:190', 4),\n",
       " ('140:203:190', 4),\n",
       " ('134:196:186', 4),\n",
       " ('138:199:190', 4),\n",
       " ('142:201:188', 4),\n",
       " ('144:204:193', 4),\n",
       " ('140:204:193', 4),\n",
       " ('142:202:194', 4),\n",
       " ('148:205:192', 4),\n",
       " ('144:205:195', 4),\n",
       " ('140:201:195', 4),\n",
       " ('139:202:197', 4),\n",
       " ('134:197:185', 4),\n",
       " ('138:200:190', 4),\n",
       " ('140:202:196', 4),\n",
       " ('226:183:58', 4),\n",
       " ('147:204:198', 4),\n",
       " ('226:184:58', 4),\n",
       " ('227:184:59', 4),\n",
       " ('230:186:56', 4),\n",
       " ('42:34:30', 4),\n",
       " ('227:183:53', 4),\n",
       " ('232:187:59', 4),\n",
       " ('234:189:59', 4),\n",
       " ('145:203:195', 4),\n",
       " ('226:138:148', 4),\n",
       " ('237:150:159', 4),\n",
       " ('236:145:155', 4),\n",
       " ('230:186:60', 4),\n",
       " ('241:149:159', 4),\n",
       " ('227:139:148', 4),\n",
       " ('243:151:161', 4),\n",
       " ('235:143:151', 4),\n",
       " ('236:144:154', 4),\n",
       " ('236:145:153', 4),\n",
       " ('233:143:151', 4),\n",
       " ('233:142:150', 4),\n",
       " ('221:133:141', 4),\n",
       " ('242:149:157', 4),\n",
       " ('241:148:156', 4),\n",
       " ('239:147:151', 4),\n",
       " ('242:149:155', 4),\n",
       " ('244:150:157', 4),\n",
       " ('238:148:158', 4),\n",
       " ('235:145:151', 4),\n",
       " ('230:143:152', 4),\n",
       " ('225:136:142', 4),\n",
       " ('231:187:59', 4),\n",
       " ('245:150:157', 4),\n",
       " ('235:144:154', 4),\n",
       " ('232:140:149', 4),\n",
       " ('231:188:58', 4),\n",
       " ('231:140:149', 4),\n",
       " ('240:148:156', 4),\n",
       " ('229:187:58', 4),\n",
       " ('233:144:152', 4),\n",
       " ('43:33:29', 4),\n",
       " ('227:182:53', 4),\n",
       " ('222:179:52', 4),\n",
       " ('237:148:154', 4),\n",
       " ('235:145:154', 4),\n",
       " ('38:31:27', 4),\n",
       " ('237:192:62', 4),\n",
       " ('244:152:162', 4),\n",
       " ('227:183:55', 4),\n",
       " ('238:148:156', 4),\n",
       " ('229:141:150', 4),\n",
       " ('42:33:29', 4),\n",
       " ('231:140:148', 4),\n",
       " ('236:146:154', 4),\n",
       " ('44:35:31', 4),\n",
       " ('240:148:151', 4),\n",
       " ('239:148:151', 4),\n",
       " ('239:149:158', 4),\n",
       " ('239:147:155', 4),\n",
       " ('237:144:154', 4),\n",
       " ('230:140:147', 4),\n",
       " ('227:137:144', 4),\n",
       " ('232:186:55', 4),\n",
       " ('226:183:56', 4),\n",
       " ('39:35:29', 4),\n",
       " ('148:207:199', 4),\n",
       " ('37:33:28', 4),\n",
       " ('236:191:61', 4),\n",
       " ('65:174:151', 4),\n",
       " ('230:185:55', 4),\n",
       " ('145:206:199', 4),\n",
       " ('145:206:198', 4),\n",
       " ('147:205:197', 4),\n",
       " ('148:204:193', 4),\n",
       " ('146:202:191', 4),\n",
       " ('146:203:191', 4),\n",
       " ('137:201:191', 4),\n",
       " ('149:205:195', 4),\n",
       " ('144:195:184', 4),\n",
       " ('143:205:195', 4),\n",
       " ('149:205:197', 4),\n",
       " ('147:203:194', 4),\n",
       " ('145:204:194', 4),\n",
       " ('142:200:190', 3),\n",
       " ('142:202:192', 3),\n",
       " ('143:202:194', 3),\n",
       " ('143:200:193', 3),\n",
       " ('139:199:189', 3),\n",
       " ('139:199:190', 3),\n",
       " ('140:199:190', 3),\n",
       " ('140:200:190', 3),\n",
       " ('135:199:188', 3),\n",
       " ('135:200:187', 3),\n",
       " ('134:197:187', 3),\n",
       " ('137:202:192', 3),\n",
       " ('137:199:185', 3),\n",
       " ('143:202:189', 3),\n",
       " ('138:202:188', 3),\n",
       " ('137:201:186', 3),\n",
       " ('140:202:189', 3),\n",
       " ('138:198:189', 3),\n",
       " ('146:205:192', 3),\n",
       " ('143:205:193', 3),\n",
       " ('147:205:192', 3),\n",
       " ('144:205:198', 3),\n",
       " ('143:205:197', 3),\n",
       " ('144:205:196', 3),\n",
       " ('142:204:196', 3),\n",
       " ('143:203:198', 3),\n",
       " ('160:205:197', 3),\n",
       " ('145:204:197', 3),\n",
       " ('139:204:196', 3),\n",
       " ('234:189:58', 3),\n",
       " ('231:186:57', 3),\n",
       " ('139:201:188', 3),\n",
       " ('136:199:188', 3),\n",
       " ('145:202:194', 3),\n",
       " ('223:181:56', 3),\n",
       " ('230:185:56', 3),\n",
       " ('219:178:53', 3),\n",
       " ('161:206:198', 3),\n",
       " ('140:203:197', 3),\n",
       " ('194:155:50', 3),\n",
       " ('137:199:190', 3),\n",
       " ('231:186:55', 3),\n",
       " ('230:186:59', 3),\n",
       " ('227:183:57', 3),\n",
       " ('229:186:60', 3),\n",
       " ('215:172:52', 3),\n",
       " ('218:176:52', 3),\n",
       " ('142:206:193', 3),\n",
       " ('138:202:191', 3),\n",
       " ('222:178:52', 3),\n",
       " ('144:198:189', 3),\n",
       " ('227:183:56', 3),\n",
       " ('230:188:59', 3),\n",
       " ('227:184:60', 3),\n",
       " ('222:178:55', 3),\n",
       " ('147:205:199', 3),\n",
       " ('232:187:58', 3),\n",
       " ('232:189:60', 3),\n",
       " ('144:197:188', 3),\n",
       " ('146:204:198', 3),\n",
       " ('230:185:59', 3),\n",
       " ('232:187:60', 3),\n",
       " ('224:179:52', 3),\n",
       " ('64:50:43', 3),\n",
       " ('230:144:153', 3),\n",
       " ('228:183:54', 3),\n",
       " ('158:205:198', 3),\n",
       " ('140:203:196', 3),\n",
       " ('213:170:49', 3),\n",
       " ('234:144:154', 3),\n",
       " ('236:144:155', 3),\n",
       " ('232:143:150', 3),\n",
       " ('139:201:193', 3),\n",
       " ('223:179:54', 3),\n",
       " ('221:178:55', 3),\n",
       " ('240:150:160', 3),\n",
       " ('239:147:157', 3),\n",
       " ('239:148:157', 3),\n",
       " ('237:147:156', 3),\n",
       " ('237:145:155', 3),\n",
       " ('231:187:61', 3),\n",
       " ('244:151:162', 3),\n",
       " ('238:147:157', 3),\n",
       " ('237:146:155', 3),\n",
       " ('238:147:154', 3),\n",
       " ('239:147:154', 3),\n",
       " ('239:146:152', 3),\n",
       " ('237:146:153', 3),\n",
       " ('228:138:148', 3),\n",
       " ('229:140:149', 3),\n",
       " ('229:185:60', 3),\n",
       " ('233:142:152', 3),\n",
       " ('159:127:49', 3),\n",
       " ('239:146:153', 3),\n",
       " ('238:145:153', 3),\n",
       " ('234:144:151', 3),\n",
       " ('211:129:136', 3),\n",
       " ('147:206:199', 3),\n",
       " ('242:150:156', 3),\n",
       " ('244:153:160', 3),\n",
       " ('235:145:153', 3),\n",
       " ('239:150:156', 3),\n",
       " ('238:146:155', 3),\n",
       " ('235:145:152', 3),\n",
       " ('226:138:147', 3),\n",
       " ('228:184:58', 3),\n",
       " ('229:185:59', 3),\n",
       " ('242:149:158', 3),\n",
       " ('237:147:154', 3),\n",
       " ('236:143:151', 3),\n",
       " ('236:145:148', 3),\n",
       " ('163:208:200', 3),\n",
       " ('149:206:200', 3),\n",
       " ('144:207:202', 3),\n",
       " ('237:146:150', 3),\n",
       " ('239:147:150', 3),\n",
       " ('240:149:154', 3),\n",
       " ('247:151:158', 3),\n",
       " ('246:150:158', 3),\n",
       " ('239:148:158', 3),\n",
       " ('42:34:29', 3),\n",
       " ('221:178:53', 3),\n",
       " ('241:149:153', 3),\n",
       " ('246:151:158', 3),\n",
       " ('233:143:153', 3),\n",
       " ('235:143:149', 3),\n",
       " ('232:141:148', 3),\n",
       " ('241:150:156', 3),\n",
       " ('232:141:147', 3),\n",
       " ('231:141:146', 3),\n",
       " ('216:133:140', 3),\n",
       " ('233:187:58', 3),\n",
       " ('227:185:56', 3),\n",
       " ('239:150:155', 3),\n",
       " ('243:150:158', 3),\n",
       " ('46:37:32', 3),\n",
       " ('226:182:54', 3),\n",
       " ('244:152:156', 3),\n",
       " ('238:146:154', 3),\n",
       " ('219:176:53', 3),\n",
       " ('234:146:152', 3),\n",
       " ('241:149:157', 3),\n",
       " ('237:144:152', 3),\n",
       " ('237:146:156', 3),\n",
       " ('226:181:52', 3),\n",
       " ('243:151:156', 3),\n",
       " ('241:147:155', 3),\n",
       " ('236:149:158', 3),\n",
       " ('238:147:150', 3),\n",
       " ('232:141:142', 3),\n",
       " ('242:148:154', 3),\n",
       " ('244:149:158', 3),\n",
       " ('221:178:51', 3),\n",
       " ('241:149:156', 3),\n",
       " ('245:148:156', 3),\n",
       " ('237:144:153', 3),\n",
       " ('234:146:153', 3),\n",
       " ('217:174:51', 3),\n",
       " ('236:143:150', 3),\n",
       " ('233:142:149', 3),\n",
       " ('238:146:151', 3),\n",
       " ('226:183:55', 3),\n",
       " ('227:137:143', 3),\n",
       " ('231:141:150', 3),\n",
       " ('240:149:155', 3),\n",
       " ('233:144:151', 3),\n",
       " ('218:132:139', 3),\n",
       " ('234:143:149', 3),\n",
       " ('45:36:31', 3),\n",
       " ('236:146:155', 3),\n",
       " ('233:190:60', 3),\n",
       " ('232:187:56', 3),\n",
       " ('229:186:56', 3),\n",
       " ('236:146:151', 3),\n",
       " ('224:134:141', 3),\n",
       " ('221:178:50', 3),\n",
       " ('228:186:57', 3),\n",
       " ('43:35:31', 3),\n",
       " ('233:188:57', 3),\n",
       " ('239:147:149', 3),\n",
       " ('236:143:153', 3),\n",
       " ('223:180:51', 3),\n",
       " ('220:176:52', 3),\n",
       " ('237:145:154', 3),\n",
       " ('148:203:195', 3),\n",
       " ('192:117:122', 3),\n",
       " ('146:207:198', 3),\n",
       " ('229:139:145', 3),\n",
       " ('147:206:197', 3),\n",
       " ('234:141:150', 3),\n",
       " ('147:206:198', 3),\n",
       " ('224:180:53', 3),\n",
       " ('230:139:147', 3),\n",
       " ('147:205:194', 3),\n",
       " ('227:186:56', 3),\n",
       " ('147:204:192', 3),\n",
       " ('148:207:201', 3),\n",
       " ('233:191:60', 3),\n",
       " ('41:37:32', 3),\n",
       " ('38:34:28', 3),\n",
       " ('38:34:29', 3),\n",
       " ('44:41:35', 3),\n",
       " ('233:191:59', 3),\n",
       " ('43:38:32', 3),\n",
       " ('66:175:152', 3),\n",
       " ('146:206:201', 3),\n",
       " ('222:178:49', 3),\n",
       " ('144:206:197', 3),\n",
       " ('68:173:151', 3),\n",
       " ('235:186:54', 3),\n",
       " ('233:189:59', 3),\n",
       " ('156:204:197', 3),\n",
       " ('231:186:56', 3),\n",
       " ('145:204:198', 3),\n",
       " ('44:42:32', 3),\n",
       " ('148:205:197', 3),\n",
       " ('157:205:198', 3),\n",
       " ('144:207:200', 3),\n",
       " ('143:202:195', 3),\n",
       " ('147:203:195', 3),\n",
       " ('148:205:195', 3),\n",
       " ('148:206:199', 3),\n",
       " ('148:206:194', 3),\n",
       " ('145:203:191', 3),\n",
       " ('140:204:197', 3),\n",
       " ('145:202:191', 3),\n",
       " ('146:203:192', 3),\n",
       " ('145:206:197', 3),\n",
       " ('147:205:193', 3),\n",
       " ('146:201:189', 3),\n",
       " ('138:200:195', 3),\n",
       " ('141:196:185', 2),\n",
       " ('139:197:188', 2),\n",
       " ('141:199:189', 2),\n",
       " ('140:199:188', 2),\n",
       " ('142:200:188', 2),\n",
       " ('143:201:191', 2),\n",
       " ('145:200:192', 2),\n",
       " ('140:204:192', 2),\n",
       " ('144:203:192', 2),\n",
       " ('144:204:191', 2),\n",
       " ('138:197:185', 2),\n",
       " ('138:197:186', 2),\n",
       " ('137:196:184', 2),\n",
       " ('138:197:188', 2),\n",
       " ('140:199:189', 2),\n",
       " ('141:200:190', 2),\n",
       " ('142:201:192', 2),\n",
       " ('142:201:194', 2),\n",
       " ('143:203:192', 2),\n",
       " ('143:204:191', 2),\n",
       " ('139:199:191', 2),\n",
       " ('136:198:189', 2),\n",
       " ('134:198:188', 2),\n",
       " ('136:197:187', 2),\n",
       " ('136:197:186', 2),\n",
       " ('137:197:188', 2),\n",
       " ('140:200:189', 2),\n",
       " ('142:202:193', 2),\n",
       " ('141:201:194', 2),\n",
       " ('141:202:189', 2),\n",
       " ('137:202:189', 2),\n",
       " ('136:201:188', 2),\n",
       " ('136:199:186', 2),\n",
       " ('137:200:186', 2),\n",
       " ('132:196:186', 2),\n",
       " ('135:199:189', 2),\n",
       " ('142:204:189', 2),\n",
       " ('144:204:192', 2),\n",
       " ('141:204:190', 2),\n",
       " ('140:201:189', 2),\n",
       " ('141:202:190', 2),\n",
       " ('139:202:187', 2),\n",
       " ('136:200:190', 2),\n",
       " ('135:197:187', 2),\n",
       " ('143:203:193', 2),\n",
       " ('141:204:189', 2),\n",
       " ('145:203:194', 2),\n",
       " ('146:203:193', 2),\n",
       " ('139:202:194', 2),\n",
       " ('145:201:192', 2),\n",
       " ('138:202:196', 2),\n",
       " ('139:202:195', 2),\n",
       " ('139:201:197', 2),\n",
       " ('145:206:194', 2),\n",
       " ('145:206:196', 2),\n",
       " ('161:205:197', 2),\n",
       " ('143:202:192', 2),\n",
       " ('138:203:199', 2),\n",
       " ('144:202:196', 2),\n",
       " ('142:204:199', 2),\n",
       " ('142:205:192', 2),\n",
       " ('139:200:188', 2),\n",
       " ('144:202:195', 2),\n",
       " ('144:203:196', 2),\n",
       " ('236:189:58', 2),\n",
       " ('134:198:186', 2),\n",
       " ('162:205:197', 2),\n",
       " ('142:204:197', 2),\n",
       " ('214:170:55', 2),\n",
       " ('62:54:36', 2),\n",
       " ('136:199:187', 2),\n",
       " ('52:45:41', 2),\n",
       " ('181:147:49', 2),\n",
       " ('148:203:192', 2),\n",
       " ('138:200:187', 2),\n",
       " ('230:183:56', 2),\n",
       " ('227:185:60', 2),\n",
       " ('212:171:55', 2),\n",
       " ('49:42:31', 2),\n",
       " ('227:185:58', 2),\n",
       " ('223:180:52', 2),\n",
       " ('234:189:61', 2),\n",
       " ('55:47:33', 2),\n",
       " ('141:203:195', 2),\n",
       " ('231:188:61', 2),\n",
       " ('178:144:55', 2),\n",
       " ('231:186:58', 2),\n",
       " ('169:136:50', 2),\n",
       " ('158:127:50', 2),\n",
       " ('205:165:50', 2),\n",
       " ('219:177:53', 2),\n",
       " ('140:204:190', 2),\n",
       " ('159:206:199', 2),\n",
       " ('142:202:198', 2),\n",
       " ('59:52:39', 2),\n",
       " ('48:42:32', 2),\n",
       " ('64:54:30', 2),\n",
       " ('57:47:37', 2),\n",
       " ('53:47:36', 2),\n",
       " ('221:179:56', 2),\n",
       " ('145:207:197', 2),\n",
       " ('137:202:191', 2),\n",
       " ('230:183:54', 2),\n",
       " ('227:186:57', 2),\n",
       " ('224:182:53', 2),\n",
       " ('220:178:56', 2),\n",
       " ('62:57:38', 2),\n",
       " ('67:57:38', 2),\n",
       " ('110:149:136', 2),\n",
       " ('134:198:185', 2),\n",
       " ('143:202:196', 2),\n",
       " ('224:181:56', 2),\n",
       " ('224:180:56', 2),\n",
       " ('227:184:56', 2),\n",
       " ('52:48:35', 2),\n",
       " ('229:185:57', 2),\n",
       " ('227:184:62', 2),\n",
       " ('224:180:57', 2),\n",
       " ('224:180:55', 2),\n",
       " ('225:183:53', 2),\n",
       " ('227:184:55', 2),\n",
       " ('222:179:55', 2),\n",
       " ('45:40:33', 2),\n",
       " ('167:135:46', 2),\n",
       " ('40:34:29', 2),\n",
       " ('140:204:198', 2),\n",
       " ('227:183:59', 2),\n",
       " ('225:181:57', 2),\n",
       " ('228:186:59', 2),\n",
       " ('231:188:57', 2),\n",
       " ('216:172:50', 2),\n",
       " ('71:55:52', 2),\n",
       " ('44:40:36', 2),\n",
       " ('230:184:61', 2),\n",
       " ('223:180:55', 2),\n",
       " ('232:188:56', 2),\n",
       " ('231:187:55', 2),\n",
       " ('231:185:57', 2),\n",
       " ('233:188:56', 2),\n",
       " ('226:143:154', 2),\n",
       " ('141:205:198', 2),\n",
       " ('161:205:198', 2),\n",
       " ('232:189:58', 2),\n",
       " ('233:188:60', 2),\n",
       " ('222:178:51', 2),\n",
       " ('226:180:53', 2),\n",
       " ('228:182:54', 2),\n",
       " ('43:39:32', 2),\n",
       " ('220:138:146', 2),\n",
       " ('39:34:28', 2),\n",
       " ('42:38:27', 2),\n",
       " ('235:190:62', 2),\n",
       " ('231:189:60', 2),\n",
       " ('218:176:54', 2),\n",
       " ('234:187:60', 2),\n",
       " ('217:173:51', 2),\n",
       " ('228:181:54', 2),\n",
       " ('224:179:51', 2),\n",
       " ('223:179:52', 2),\n",
       " ('228:186:53', 2),\n",
       " ('227:184:54', 2),\n",
       " ('238:155:162', 2),\n",
       " ('232:146:155', 2),\n",
       " ('139:203:192', 2),\n",
       " ('229:187:59', 2),\n",
       " ('197:158:51', 2),\n",
       " ('221:180:55', 2),\n",
       " ('234:188:58', 2),\n",
       " ('47:43:39', 2),\n",
       " ('236:149:157', 2),\n",
       " ('224:136:145', 2),\n",
       " ('148:205:200', 2),\n",
       " ('223:179:56', 2),\n",
       " ('234:190:61', 2),\n",
       " ('218:175:51', 2),\n",
       " ('229:143:152', 2),\n",
       " ('238:152:160', 2),\n",
       " ('240:151:160', 2),\n",
       " ('239:150:159', 2),\n",
       " ('233:144:153', 2),\n",
       " ('218:132:140', 2),\n",
       " ('225:184:58', 2),\n",
       " ('214:173:51', 2),\n",
       " ('49:45:41', 2),\n",
       " ('52:47:30', 2),\n",
       " ('50:41:38', 2),\n",
       " ('239:149:159', 2),\n",
       " ('236:146:156', 2),\n",
       " ('236:147:154', 2),\n",
       " ('231:141:149', 2),\n",
       " ('225:137:144', 2),\n",
       " ('221:135:143', 2),\n",
       " ('217:133:141', 2),\n",
       " ('213:128:135', 2),\n",
       " ('218:131:140', 2),\n",
       " ('218:174:53', 2),\n",
       " ('192:152:50', 2),\n",
       " ('237:146:158', 2),\n",
       " ('41:37:31', 2),\n",
       " ('240:149:159', 2),\n",
       " ('240:148:159', 2),\n",
       " ('230:140:150', 2),\n",
       " ('228:139:146', 2),\n",
       " ('215:131:139', 2),\n",
       " ('188:116:121', 2),\n",
       " ('212:170:52', 2),\n",
       " ('243:154:161', 2),\n",
       " ('243:151:160', 2),\n",
       " ('242:152:162', 2),\n",
       " ('242:149:160', 2),\n",
       " ('240:147:152', 2),\n",
       " ('239:146:151', 2),\n",
       " ('232:142:152', 2),\n",
       " ('229:141:148', 2),\n",
       " ('208:126:133', 2),\n",
       " ('146:205:199', 2),\n",
       " ('226:184:59', 2),\n",
       " ('195:157:47', 2),\n",
       " ('241:151:158', 2),\n",
       " ('243:150:157', 2),\n",
       " ('245:153:161', 2),\n",
       " ('240:146:151', 2),\n",
       " ('239:145:149', 2),\n",
       " ('229:141:151', 2),\n",
       " ('226:138:146', 2),\n",
       " ('145:206:201', 2),\n",
       " ('142:203:197', 2),\n",
       " ('233:186:56', 2),\n",
       " ('243:151:158', 2),\n",
       " ('245:151:159', 2),\n",
       " ('241:153:160', 2),\n",
       " ('242:153:160', 2),\n",
       " ('240:149:160', 2),\n",
       " ('239:146:155', 2),\n",
       " ('240:146:147', 2),\n",
       " ('241:147:152', 2),\n",
       " ('226:136:144', 2),\n",
       " ('197:121:126', 2),\n",
       " ('135:200:190', 2),\n",
       " ('145:206:202', 2),\n",
       " ('160:127:48', 2),\n",
       " ('242:149:156', 2),\n",
       " ('243:149:157', 2),\n",
       " ('243:152:159', 2),\n",
       " ('238:146:156', 2),\n",
       " ('238:147:151', 2),\n",
       " ('231:140:147', 2),\n",
       " ('238:145:151', 2),\n",
       " ('240:148:154', 2),\n",
       " ('244:151:159', 2),\n",
       " ('235:142:152', 2),\n",
       " ('238:145:148', 2),\n",
       " ('239:146:150', 2),\n",
       " ('231:142:149', 2),\n",
       " ('229:140:146', 2),\n",
       " ('38:31:25', 2),\n",
       " ('231:187:60', 2),\n",
       " ('245:152:158', 2),\n",
       " ('230:141:149', 2),\n",
       " ('235:141:150', 2),\n",
       " ('34:28:25', 2),\n",
       " ('148:206:200', 2),\n",
       " ('141:206:200', 2),\n",
       " ('231:186:60', 2),\n",
       " ('195:152:49', 2),\n",
       " ('241:151:154', 2),\n",
       " ('241:150:155', 2),\n",
       " ('216:132:137', 2),\n",
       " ('235:145:148', 2),\n",
       " ('230:140:146', 2),\n",
       " ('222:136:142', 2),\n",
       " ('39:34:29', 2),\n",
       " ('231:188:60', 2),\n",
       " ('225:137:146', 2),\n",
       " ('240:151:154', 2),\n",
       " ('244:147:155', 2),\n",
       " ('246:153:159', 2),\n",
       " ('244:152:159', 2),\n",
       " ('130:157:168', 2),\n",
       " ('235:144:155', 2),\n",
       " ('220:136:144', 2),\n",
       " ('236:145:149', 2),\n",
       " ('47:41:33', 2),\n",
       " ('227:139:146', 2),\n",
       " ('35:29:25', 2),\n",
       " ('43:36:31', 2),\n",
       " ('49:39:35', 2),\n",
       " ('39:32:28', 2),\n",
       " ('245:151:155', 2),\n",
       " ('244:149:157', 2),\n",
       " ('225:137:147', 2),\n",
       " ('39:33:30', 2),\n",
       " ('232:140:143', 2),\n",
       " ('43:35:29', 2),\n",
       " ('230:185:58', 2),\n",
       " ('216:173:51', 2),\n",
       " ('232:185:57', 2),\n",
       " ('217:172:51', 2),\n",
       " ('234:147:151', 2),\n",
       " ('238:149:154', 2),\n",
       " ('243:151:154', 2),\n",
       " ('242:148:157', 2),\n",
       " ('230:143:154', 2),\n",
       " ('234:143:150', 2),\n",
       " ('234:145:144', 2),\n",
       " ('233:143:143', 2),\n",
       " ('232:140:141', 2),\n",
       " ('226:136:142', 2),\n",
       " ('190:121:124', 2),\n",
       " ('42:33:31', 2),\n",
       " ('229:187:57', 2),\n",
       " ('225:181:53', 2),\n",
       " ('224:181:52', 2),\n",
       " ('232:187:55', 2),\n",
       " ('238:194:58', 2),\n",
       " ('240:150:157', 2),\n",
       " ('241:147:154', 2),\n",
       " ('238:145:155', 2),\n",
       " ('77:54:51', 2),\n",
       " ('236:148:152', 2),\n",
       " ('232:188:57', 2),\n",
       " ('225:180:52', 2),\n",
       " ('221:177:51', 2),\n",
       " ('218:173:51', 2),\n",
       " ('235:189:58', 2),\n",
       " ('236:191:58', 2),\n",
       " ('233:146:151', 2),\n",
       " ('240:146:155', 2),\n",
       " ('242:147:156', 2),\n",
       " ('241:146:155', 2),\n",
       " ('239:148:159', 2),\n",
       " ('235:146:146', 2),\n",
       " ('36:29:24', 2),\n",
       " ('237:147:155', 2),\n",
       " ('243:152:157', 2),\n",
       " ('242:151:157', 2),\n",
       " ('241:146:153', 2),\n",
       " ('243:149:158', 2),\n",
       " ('237:148:158', 2),\n",
       " ('233:145:154', 2),\n",
       " ('234:145:153', 2),\n",
       " ('234:144:153', 2),\n",
       " ('227:141:148', 2),\n",
       " ('233:142:143', 2),\n",
       " ('35:30:25', 2),\n",
       " ('225:180:51', 2),\n",
       " ('223:177:48', 2),\n",
       " ('220:176:51', 2),\n",
       " ('222:178:54', 2),\n",
       " ('228:181:52', 2),\n",
       " ('244:154:156', 2),\n",
       " ('237:146:152', 2),\n",
       " ('240:147:154', 2),\n",
       " ('39:31:26', 2),\n",
       " ('179:111:113', 2),\n",
       " ('233:145:151', 2),\n",
       " ('40:34:30', 2),\n",
       " ('229:183:52', 2),\n",
       " ('221:177:52', 2),\n",
       " ('228:185:56', 2),\n",
       " ('229:182:52', 2),\n",
       " ('236:143:152', 2),\n",
       " ('232:144:151', 2),\n",
       " ('224:136:144', 2),\n",
       " ('209:126:132', 2),\n",
       " ('214:172:52', 2),\n",
       " ('233:185:57', 2),\n",
       " ('243:153:157', 2),\n",
       " ('242:148:155', 2),\n",
       " ('233:140:149', 2),\n",
       " ('235:142:153', 2),\n",
       " ('236:146:152', 2),\n",
       " ('228:139:144', 2),\n",
       " ('200:122:127', 2),\n",
       " ('166:108:111', 2),\n",
       " ('43:40:33', 2),\n",
       " ('46:38:34', 2),\n",
       " ('209:165:50', 2),\n",
       " ('242:150:155', 2),\n",
       " ('241:147:153', 2),\n",
       " ('230:138:148', 2),\n",
       " ('228:139:147', 2),\n",
       " ('206:127:134', 2),\n",
       " ('45:35:32', 2),\n",
       " ('46:36:32', 2),\n",
       " ('239:192:61', 2),\n",
       " ('228:140:148', 2),\n",
       " ('230:138:142', 2),\n",
       " ('48:35:32', 2),\n",
       " ('42:34:28', 2),\n",
       " ('45:35:31', 2),\n",
       " ('222:180:55', 2),\n",
       " ('224:182:56', 2),\n",
       " ('237:190:58', 2),\n",
       " ('225:180:53', 2),\n",
       " ('226:137:145', 2),\n",
       " ('224:135:142', 2),\n",
       " ('237:149:157', 2),\n",
       " ('196:156:50', 2),\n",
       " ('184:146:46', 2),\n",
       " ('235:187:56', 2),\n",
       " ('241:150:158', 2),\n",
       " ('235:145:155', 2),\n",
       " ('232:139:145', 2),\n",
       " ('229:137:143', 2),\n",
       " ...]"
      ]
     },
     "execution_count": 9,
     "metadata": {},
     "output_type": "execute_result"
    }
   ],
   "source": [
    "detected_colors = detect_colors(image_path)\n",
    "detected_colors"
   ]
  },
  {
   "cell_type": "code",
   "execution_count": 10,
   "id": "5cbff397",
   "metadata": {},
   "outputs": [],
   "source": [
    "def get_color_codes(detected_colors):\n",
    "    \"\"\" \n",
    "    Function finds the best matches between detected color codes and source color \n",
    "    codes from: https://www.colorhexa.com \n",
    "\n",
    "    Parameters\n",
    "    ---------\n",
    "    detected_colors : list\n",
    "        list of detected colors in image\n",
    "    color_codes : list\n",
    "        list of best matches\n",
    "    \"\"\"\n",
    "    \n",
    "    color_codes = []\n",
    "    for idx,detected_color in enumerate(detected_colors):\n",
    "        detected_color = detected_color[0].split(':')\n",
    "        print(f'Processing {detected_color}...{idx+1}/{len(detected_colors)}')\n",
    "        \n",
    "        # Calculate absolute differences\n",
    "        color_map = []\n",
    "        for idx,row in colors.iterrows():\n",
    "            r = abs(int(detected_color[0]) - row['R'])\n",
    "            g = abs(int(detected_color[1]) - row['G'])\n",
    "            b = abs(int(detected_color[2]) - row['B'])\n",
    "    \n",
    "            # Query row values\n",
    "            color = row['color'], \n",
    "            code = row['code'].replace('#', '')\n",
    "    \n",
    "            # Map results\n",
    "            color_map.append({'color':color, 'code':code, 'distance':sum([r,g,b])})\n",
    "        \n",
    "        # Get best match (shortest distance)\n",
    "        best_match = min(color_map, key=lambda x:x['distance'])\n",
    "        \n",
    "        # Get color code\n",
    "        color_code = best_match['code']\n",
    "        if color_code not in color_codes: color_codes.append(color_code)\n",
    "    \n",
    "    return color_codes"
   ]
  },
  {
   "cell_type": "code",
   "execution_count": 11,
   "id": "1d8ba5a3",
   "metadata": {
    "scrolled": true
   },
   "outputs": [
    {
     "name": "stdout",
     "output_type": "stream",
     "text": [
      "Processing ['140', '203', '193']...1/617\n",
      "Processing ['140', '201', '192']...2/617\n",
      "Processing ['230', '187', '60']...3/617\n",
      "Processing ['145', '205', '197']...4/617\n",
      "Processing ['137', '200', '191']...5/617\n",
      "Processing ['139', '200', '189']...6/617\n",
      "Processing ['141', '204', '196']...7/617\n",
      "Processing ['141', '202', '192']...8/617\n",
      "Processing ['244', '149', '156']...9/617\n",
      "Processing ['139', '201', '192']...10/617\n",
      "Processing ['147', '206', '200']...11/617\n",
      "Processing ['144', '203', '190']...12/617\n",
      "Processing ['239', '146', '154']...13/617\n",
      "Processing ['237', '145', '151']...14/617\n",
      "Processing ['136', '199', '190']...15/617\n",
      "Processing ['225', '182', '56']...16/617\n",
      "Processing ['241', '149', '155']...17/617\n",
      "Processing ['241', '148', '158']...18/617\n",
      "Processing ['144', '205', '194']...19/617\n",
      "Processing ['136', '200', '186']...20/617\n",
      "Processing ['137', '200', '187']...21/617\n",
      "Processing ['42', '38', '33']...22/617\n",
      "Processing ['243', '152', '160']...23/617\n",
      "Processing ['148', '205', '198']...24/617\n",
      "Processing ['238', '145', '152']...25/617\n",
      "Processing ['147', '204', '191']...26/617\n",
      "Processing ['142', '202', '191']...27/617\n",
      "Processing ['144', '204', '193']...28/617\n",
      "Processing ['226', '183', '58']...29/617\n",
      "Processing ['226', '138', '148']...30/617\n",
      "Processing ['233', '143', '151']...31/617\n",
      "Processing ['230', '143', '152']...32/617\n",
      "Processing ['233', '144', '152']...33/617\n",
      "Processing ['238', '148', '156']...34/617\n",
      "Processing ['237', '144', '154']...35/617\n",
      "Processing ['230', '185', '55']...36/617\n",
      "Processing ['143', '205', '195']...37/617\n",
      "Processing ['140', '199', '190']...38/617\n",
      "Processing ['140', '202', '189']...39/617\n",
      "Processing ['160', '205', '197']...40/617\n",
      "Processing ['219', '178', '53']...41/617\n",
      "Processing ['218', '176', '52']...42/617\n",
      "Processing ['232', '187', '58']...43/617\n",
      "Processing ['158', '205', '198']...44/617\n",
      "Processing ['239', '147', '157']...45/617\n",
      "Processing ['239', '146', '152']...46/617\n",
      "Processing ['211', '129', '136']...47/617\n",
      "Processing ['229', '185', '59']...48/617\n",
      "Processing ['240', '149', '154']...49/617\n",
      "Processing ['232', '141', '148']...50/617\n",
      "Processing ['226', '182', '54']...51/617\n",
      "Processing ['241', '147', '155']...52/617\n",
      "Processing ['234', '146', '153']...53/617\n",
      "Processing ['218', '132', '139']...54/617\n",
      "Processing ['228', '186', '57']...55/617\n",
      "Processing ['146', '207', '198']...56/617\n",
      "Processing ['148', '207', '201']...57/617\n",
      "Processing ['222', '178', '49']...58/617\n",
      "Processing ['157', '205', '198']...59/617\n",
      "Processing ['146', '203', '192']...60/617\n",
      "Processing ['143', '201', '191']...61/617\n",
      "Processing ['141', '200', '190']...62/617\n",
      "Processing ['137', '197', '188']...63/617\n",
      "Processing ['135', '199', '189']...64/617\n",
      "Processing ['141', '204', '189']...65/617\n",
      "Processing ['161', '205', '197']...66/617\n",
      "Processing ['134', '198', '186']...67/617\n",
      "Processing ['230', '183', '56']...68/617\n",
      "Processing ['178', '144', '55']...69/617\n",
      "Processing ['48', '42', '32']...70/617\n",
      "Processing ['220', '178', '56']...71/617\n",
      "Processing ['229', '185', '57']...72/617\n",
      "Processing ['140', '204', '198']...73/617\n",
      "Processing ['232', '188', '56']...74/617\n",
      "Processing ['226', '180', '53']...75/617\n",
      "Processing ['217', '173', '51']...76/617\n",
      "Processing ['197', '158', '51']...77/617\n",
      "Processing ['229', '143', '152']...78/617\n",
      "Processing ['50', '41', '38']...79/617\n",
      "Processing ['218', '174', '53']...80/617\n",
      "Processing ['212', '170', '52']...81/617\n",
      "Processing ['146', '205', '199']...82/617\n",
      "Processing ['145', '206', '201']...83/617\n",
      "Processing ['241', '147', '152']...84/617\n",
      "Processing ['238', '147', '151']...85/617\n",
      "Processing ['38', '31', '25']...86/617\n",
      "Processing ['241', '151', '154']...87/617\n",
      "Processing ['244', '147', '155']...88/617\n",
      "Processing ['43', '36', '31']...89/617\n",
      "Processing ['216', '173', '51']...90/617\n",
      "Processing ['233', '143', '143']...91/617\n",
      "Processing ['240', '150', '157']...92/617\n",
      "Processing ['236', '191', '58']...93/617\n",
      "Processing ['242', '151', '157']...94/617\n",
      "Processing ['225', '180', '51']...95/617\n",
      "Processing ['233', '145', '151']...96/617\n",
      "Processing ['214', '172', '52']...97/617\n",
      "Processing ['43', '40', '33']...98/617\n",
      "Processing ['239', '192', '61']...99/617\n",
      "Processing ['226', '137', '145']...100/617\n",
      "Processing ['55', '41', '36']...101/617\n",
      "Processing ['222', '180', '54']...102/617\n",
      "Processing ['236', '191', '60']...103/617\n",
      "Processing ['223', '181', '52']...104/617\n",
      "Processing ['224', '134', '142']...105/617\n",
      "Processing ['228', '138', '146']...106/617\n",
      "Processing ['53', '40', '36']...107/617\n",
      "Processing ['56', '41', '36']...108/617\n",
      "Processing ['202', '124', '130']...109/617\n",
      "Processing ['186', '119', '125']...110/617\n",
      "Processing ['234', '142', '149']...111/617\n",
      "Processing ['42', '38', '32']...112/617\n",
      "Processing ['72', '171', '150']...113/617\n",
      "Processing ['75', '175', '155']...114/617\n",
      "Processing ['67', '175', '152']...115/617\n",
      "Processing ['223', '178', '53']...116/617\n",
      "Processing ['46', '43', '32']...117/617\n",
      "Processing ['228', '183', '57']...118/617\n",
      "Processing ['147', '205', '196']...119/617\n",
      "Processing ['148', '205', '193']...120/617\n",
      "Processing ['148', '204', '197']...121/617\n",
      "Processing ['143', '200', '188']...122/617\n",
      "Processing ['143', '199', '190']...123/617\n",
      "Processing ['138', '198', '186']...124/617\n",
      "Processing ['139', '198', '187']...125/617\n",
      "Processing ['134', '200', '187']...126/617\n",
      "Processing ['139', '199', '187']...127/617\n",
      "Processing ['133', '197', '187']...128/617\n",
      "Processing ['139', '204', '188']...129/617\n",
      "Processing ['139', '198', '188']...130/617\n",
      "Processing ['142', '205', '191']...131/617\n",
      "Processing ['146', '200', '193']...132/617\n",
      "Processing ['142', '199', '188']...133/617\n",
      "Processing ['147', '198', '193']...134/617\n",
      "Processing ['171', '182', '117']...135/617\n",
      "Processing ['142', '152', '99']...136/617\n",
      "Processing ['144', '197', '192']...137/617\n",
      "Processing ['138', '195', '190']...138/617\n",
      "Processing ['187', '147', '46']...139/617\n",
      "Processing ['179', '172', '96']...140/617\n",
      "Processing ['144', '198', '184']...141/617\n",
      "Processing ['228', '182', '56']...142/617\n",
      "Processing ['143', '176', '151']...143/617\n",
      "Processing ['126', '96', '37']...144/617\n",
      "Processing ['146', '187', '162']...145/617\n",
      "Processing ['193', '176', '82']...146/617\n",
      "Processing ['84', '72', '41']...147/617\n",
      "Processing ['176', '148', '60']...148/617\n",
      "Processing ['117', '96', '45']...149/617\n",
      "Processing ['133', '193', '187']...150/617\n",
      "Processing ['160', '195', '160']...151/617\n",
      "Processing ['198', '160', '51']...152/617\n",
      "Processing ['148', '120', '50']...153/617\n",
      "Processing ['109', '89', '43']...154/617\n",
      "Processing ['149', '177', '139']...155/617\n",
      "Processing ['140', '200', '192']...156/617\n",
      "Processing ['181', '148', '52']...157/617\n",
      "Processing ['81', '68', '44']...158/617\n",
      "Processing ['145', '114', '47']...159/617\n",
      "Processing ['127', '103', '43']...160/617\n",
      "Processing ['142', '206', '196']...161/617\n",
      "Processing ['68', '58', '41']...162/617\n",
      "Processing ['81', '70', '42']...163/617\n",
      "Processing ['89', '71', '42']...164/617\n",
      "Processing ['131', '103', '44']...165/617\n",
      "Processing ['156', '165', '109']...166/617\n",
      "Processing ['112', '91', '40']...167/617\n",
      "Processing ['171', '139', '56']...168/617\n",
      "Processing ['71', '61', '40']...169/617\n",
      "Processing ['75', '58', '38']...170/617\n",
      "Processing ['140', '205', '190']...171/617\n",
      "Processing ['233', '188', '62']...172/617\n",
      "Processing ['139', '115', '47']...173/617\n",
      "Processing ['105', '88', '43']...174/617\n",
      "Processing ['49', '40', '33']...175/617\n",
      "Processing ['115', '155', '147']...176/617\n",
      "Processing ['232', '189', '62']...177/617\n",
      "Processing ['225', '187', '62']...178/617\n",
      "Processing ['78', '67', '35']...179/617\n",
      "Processing ['234', '187', '53']...180/617\n",
      "Processing ['64', '84', '75']...181/617\n",
      "Processing ['227', '185', '59']...182/617\n",
      "Processing ['78', '66', '40']...183/617\n",
      "Processing ['62', '56', '41']...184/617\n",
      "Processing ['210', '171', '57']...185/617\n",
      "Processing ['201', '160', '50']...186/617\n",
      "Processing ['126', '184', '174']...187/617\n",
      "Processing ['171', '136', '54']...188/617\n",
      "Processing ['51', '45', '31']...189/617\n",
      "Processing ['113', '89', '39']...190/617\n",
      "Processing ['183', '142', '50']...191/617\n",
      "Processing ['104', '152', '150']...192/617\n",
      "Processing ['203', '156', '44']...193/617\n",
      "Processing ['48', '43', '38']...194/617\n",
      "Processing ['73', '53', '51']...195/617\n",
      "Processing ['100', '80', '33']...196/617\n",
      "Processing ['92', '86', '67']...197/617\n",
      "Processing ['230', '183', '60']...198/617\n",
      "Processing ['72', '61', '42']...199/617\n",
      "Processing ['173', '118', '124']...200/617\n",
      "Processing ['221', '141', '151']...201/617\n",
      "Processing ['90', '88', '68']...202/617\n"
     ]
    },
    {
     "name": "stdout",
     "output_type": "stream",
     "text": [
      "Processing ['98', '80', '43']...203/617\n",
      "Processing ['234', '189', '63']...204/617\n",
      "Processing ['123', '99', '47']...205/617\n",
      "Processing ['175', '113', '119']...206/617\n",
      "Processing ['214', '134', '142']...207/617\n",
      "Processing ['73', '85', '79']...208/617\n",
      "Processing ['131', '188', '178']...209/617\n",
      "Processing ['224', '181', '51']...210/617\n",
      "Processing ['216', '140', '151']...211/617\n",
      "Processing ['46', '40', '34']...212/617\n",
      "Processing ['156', '102', '102']...213/617\n",
      "Processing ['80', '72', '41']...214/617\n",
      "Processing ['125', '185', '176']...215/617\n",
      "Processing ['214', '170', '54']...216/617\n",
      "Processing ['214', '173', '50']...217/617\n",
      "Processing ['126', '85', '86']...218/617\n",
      "Processing ['55', '45', '39']...219/617\n",
      "Processing ['195', '122', '128']...220/617\n",
      "Processing ['60', '48', '28']...221/617\n",
      "Processing ['139', '203', '200']...222/617\n",
      "Processing ['102', '82', '43']...223/617\n",
      "Processing ['216', '177', '50']...224/617\n",
      "Processing ['69', '50', '44']...225/617\n",
      "Processing ['43', '38', '30']...226/617\n",
      "Processing ['195', '121', '129']...227/617\n",
      "Processing ['77', '62', '33']...228/617\n",
      "Processing ['228', '186', '60']...229/617\n",
      "Processing ['192', '131', '119']...230/617\n",
      "Processing ['228', '154', '141']...231/617\n",
      "Processing ['143', '159', '170']...232/617\n",
      "Processing ['212', '130', '138']...233/617\n",
      "Processing ['120', '116', '77']...234/617\n",
      "Processing ['162', '128', '51']...235/617\n",
      "Processing ['226', '146', '149']...236/617\n",
      "Processing ['227', '154', '135']...237/617\n",
      "Processing ['150', '184', '196']...238/617\n",
      "Processing ['199', '122', '128']...239/617\n",
      "Processing ['141', '204', '199']...240/617\n",
      "Processing ['149', '118', '50']...241/617\n",
      "Processing ['232', '150', '155']...242/617\n",
      "Processing ['218', '145', '159']...243/617\n",
      "Processing ['240', '145', '150']...244/617\n",
      "Processing ['138', '111', '39']...245/617\n",
      "Processing ['225', '181', '59']...246/617\n",
      "Processing ['103', '86', '45']...247/617\n",
      "Processing ['200', '123', '129']...248/617\n",
      "Processing ['187', '126', '133']...249/617\n",
      "Processing ['196', '122', '127']...250/617\n",
      "Processing ['136', '200', '189']...251/617\n",
      "Processing ['163', '130', '53']...252/617\n",
      "Processing ['218', '139', '130']...253/617\n",
      "Processing ['135', '166', '178']...254/617\n",
      "Processing ['239', '145', '148']...255/617\n",
      "Processing ['75', '58', '34']...256/617\n",
      "Processing ['160', '205', '196']...257/617\n",
      "Processing ['96', '78', '42']...258/617\n",
      "Processing ['246', '150', '160']...259/617\n",
      "Processing ['47', '54', '54']...260/617\n",
      "Processing ['225', '139', '149']...261/617\n",
      "Processing ['109', '73', '77']...262/617\n",
      "Processing ['136', '138', '133']...263/617\n",
      "Processing ['96', '79', '42']...264/617\n",
      "Processing ['244', '154', '160']...265/617\n",
      "Processing ['212', '140', '155']...266/617\n",
      "Processing ['140', '78', '75']...267/617\n",
      "Processing ['58', '41', '38']...268/617\n",
      "Processing ['184', '190', '121']...269/617\n",
      "Processing ['161', '124', '51']...270/617\n",
      "Processing ['161', '104', '107']...271/617\n",
      "Processing ['240', '151', '161']...272/617\n",
      "Processing ['120', '42', '28']...273/617\n",
      "Processing ['228', '139', '145']...274/617\n",
      "Processing ['197', '128', '133']...275/617\n",
      "Processing ['201', '158', '56']...276/617\n",
      "Processing ['105', '82', '82']...277/617\n",
      "Processing ['187', '113', '116']...278/617\n",
      "Processing ['53', '32', '25']...279/617\n",
      "Processing ['99', '68', '64']...280/617\n",
      "Processing ['232', '188', '58']...281/617\n",
      "Processing ['216', '171', '46']...282/617\n",
      "Processing ['152', '186', '202']...283/617\n",
      "Processing ['60', '43', '35']...284/617\n",
      "Processing ['71', '34', '30']...285/617\n",
      "Processing ['53', '42', '37']...286/617\n",
      "Processing ['210', '170', '49']...287/617\n",
      "Processing ['244', '150', '159']...288/617\n",
      "Processing ['219', '135', '143']...289/617\n",
      "Processing ['232', '121', '122']...290/617\n",
      "Processing ['202', '127', '130']...291/617\n",
      "Processing ['33', '28', '23']...292/617\n",
      "Processing ['223', '178', '54']...293/617\n",
      "Processing ['242', '150', '158']...294/617\n",
      "Processing ['227', '139', '149']...295/617\n",
      "Processing ['49', '35', '30']...296/617\n",
      "Processing ['233', '143', '147']...297/617\n",
      "Processing ['146', '199', '191']...298/617\n",
      "Processing ['217', '168', '76']...299/617\n",
      "Processing ['224', '143', '151']...300/617\n",
      "Processing ['203', '201', '190']...301/617\n",
      "Processing ['235', '145', '144']...302/617\n",
      "Processing ['35', '26', '24']...303/617\n",
      "Processing ['215', '171', '52']...304/617\n",
      "Processing ['241', '150', '161']...305/617\n",
      "Processing ['108', '101', '92']...306/617\n",
      "Processing ['238', '147', '146']...307/617\n",
      "Processing ['77', '56', '50']...308/617\n",
      "Processing ['213', '167', '48']...309/617\n",
      "Processing ['243', '148', '158']...310/617\n",
      "Processing ['181', '72', '58']...311/617\n",
      "Processing ['100', '55', '53']...312/617\n",
      "Processing ['40', '31', '28']...313/617\n",
      "Processing ['223', '176', '50']...314/617\n",
      "Processing ['243', '148', '156']...315/617\n",
      "Processing ['122', '77', '78']...316/617\n",
      "Processing ['180', '40', '21']...317/617\n",
      "Processing ['43', '30', '28']...318/617\n",
      "Processing ['223', '181', '51']...319/617\n",
      "Processing ['242', '152', '157']...320/617\n",
      "Processing ['37', '33', '27']...321/617\n",
      "Processing ['173', '61', '45']...322/617\n",
      "Processing ['204', '125', '128']...323/617\n",
      "Processing ['232', '184', '55']...324/617\n",
      "Processing ['237', '191', '56']...325/617\n",
      "Processing ['234', '141', '152']...326/617\n",
      "Processing ['231', '115', '110']...327/617\n",
      "Processing ['70', '26', '18']...328/617\n",
      "Processing ['42', '32', '29']...329/617\n",
      "Processing ['175', '139', '50']...330/617\n",
      "Processing ['236', '189', '56']...331/617\n",
      "Processing ['232', '139', '148']...332/617\n",
      "Processing ['63', '31', '22']...333/617\n",
      "Processing ['231', '144', '146']...334/617\n",
      "Processing ['50', '37', '34']...335/617\n",
      "Processing ['133', '108', '42']...336/617\n",
      "Processing ['232', '167', '105']...337/617\n",
      "Processing ['222', '135', '144']...338/617\n",
      "Processing ['174', '172', '162']...339/617\n",
      "Processing ['231', '141', '145']...340/617\n",
      "Processing ['69', '52', '46']...341/617\n",
      "Processing ['162', '132', '48']...342/617\n",
      "Processing ['209', '126', '134']...343/617\n",
      "Processing ['234', '145', '151']...344/617\n",
      "Processing ['135', '71', '69']...345/617\n",
      "Processing ['44', '36', '30']...346/617\n",
      "Processing ['179', '146', '50']...347/617\n",
      "Processing ['225', '177', '54']...348/617\n",
      "Processing ['213', '130', '139']...349/617\n",
      "Processing ['106', '65', '61']...350/617\n",
      "Processing ['68', '32', '28']...351/617\n",
      "Processing ['40', '32', '27']...352/617\n",
      "Processing ['80', '69', '40']...353/617\n",
      "Processing ['226', '180', '61']...354/617\n",
      "Processing ['211', '132', '143']...355/617\n",
      "Processing ['237', '146', '154']...356/617\n",
      "Processing ['39', '31', '27']...357/617\n",
      "Processing ['209', '126', '129']...358/617\n",
      "Processing ['214', '185', '78']...359/617\n",
      "Processing ['181', '146', '54']...360/617\n",
      "Processing ['229', '173', '86']...361/617\n",
      "Processing ['71', '80', '83']...362/617\n",
      "Processing ['109', '36', '28']...363/617\n",
      "Processing ['195', '120', '122']...364/617\n",
      "Processing ['231', '187', '57']...365/617\n",
      "Processing ['229', '188', '58']...366/617\n",
      "Processing ['152', '185', '197']...367/617\n",
      "Processing ['179', '75', '67']...368/617\n",
      "Processing ['221', '131', '138']...369/617\n",
      "Processing ['151', '202', '187']...370/617\n",
      "Processing ['220', '178', '53']...371/617\n",
      "Processing ['180', '157', '165']...372/617\n",
      "Processing ['234', '147', '156']...373/617\n",
      "Processing ['73', '51', '45']...374/617\n",
      "Processing ['231', '190', '59']...375/617\n",
      "Processing ['239', '148', '155']...376/617\n",
      "Processing ['155', '187', '198']...377/617\n",
      "Processing ['234', '138', '142']...378/617\n",
      "Processing ['163', '208', '199']...379/617\n",
      "Processing ['223', '162', '100']...380/617\n",
      "Processing ['65', '72', '71']...381/617\n",
      "Processing ['236', '151', '161']...382/617\n",
      "Processing ['54', '39', '37']...383/617\n",
      "Processing ['220', '176', '50']...384/617\n",
      "Processing ['220', '156', '165']...385/617\n",
      "Processing ['227', '137', '146']...386/617\n",
      "Processing ['232', '143', '152']...387/617\n",
      "Processing ['65', '46', '43']...388/617\n",
      "Processing ['218', '144', '141']...389/617\n",
      "Processing ['152', '181', '194']...390/617\n",
      "Processing ['235', '142', '148']...391/617\n",
      "Processing ['127', '82', '81']...392/617\n",
      "Processing ['163', '206', '198']...393/617\n",
      "Processing ['237', '143', '154']...394/617\n",
      "Processing ['40', '37', '35']...395/617\n",
      "Processing ['220', '132', '140']...396/617\n",
      "Processing ['63', '45', '39']...397/617\n",
      "Processing ['233', '187', '57']...398/617\n",
      "Processing ['130', '156', '168']...399/617\n",
      "Processing ['235', '144', '150']...400/617\n"
     ]
    },
    {
     "name": "stdout",
     "output_type": "stream",
     "text": [
      "Processing ['184', '113', '118']...401/617\n",
      "Processing ['213', '127', '133']...402/617\n",
      "Processing ['238', '150', '153']...403/617\n",
      "Processing ['127', '149', '157']...404/617\n",
      "Processing ['216', '128', '135']...405/617\n",
      "Processing ['187', '115', '119']...406/617\n",
      "Processing ['221', '133', '139']...407/617\n",
      "Processing ['213', '172', '54']...408/617\n",
      "Processing ['195', '122', '127']...409/617\n",
      "Processing ['230', '150', '154']...410/617\n",
      "Processing ['219', '134', '142']...411/617\n",
      "Processing ['66', '47', '45']...412/617\n",
      "Processing ['144', '206', '198']...413/617\n",
      "Processing ['133', '86', '87']...414/617\n",
      "Processing ['222', '144', '150']...415/617\n",
      "Processing ['198', '121', '127']...416/617\n",
      "Processing ['48', '38', '37']...417/617\n",
      "Processing ['145', '207', '199']...418/617\n",
      "Processing ['146', '116', '45']...419/617\n",
      "Processing ['226', '140', '149']...420/617\n",
      "Processing ['222', '141', '148']...421/617\n",
      "Processing ['183', '111', '115']...422/617\n",
      "Processing ['65', '45', '41']...423/617\n",
      "Processing ['227', '136', '140']...424/617\n",
      "Processing ['200', '162', '54']...425/617\n",
      "Processing ['78', '55', '47']...426/617\n",
      "Processing ['226', '139', '149']...427/617\n",
      "Processing ['173', '106', '111']...428/617\n",
      "Processing ['70', '48', '45']...429/617\n",
      "Processing ['228', '139', '143']...430/617\n",
      "Processing ['196', '160', '61']...431/617\n",
      "Processing ['111', '116', '118']...432/617\n",
      "Processing ['223', '137', '145']...433/617\n",
      "Processing ['154', '99', '102']...434/617\n",
      "Processing ['48', '37', '35']...435/617\n",
      "Processing ['211', '135', '134']...436/617\n",
      "Processing ['236', '152', '146']...437/617\n",
      "Processing ['105', '92', '89']...438/617\n",
      "Processing ['214', '132', '139']...439/617\n",
      "Processing ['103', '72', '72']...440/617\n",
      "Processing ['42', '34', '31']...441/617\n",
      "Processing ['216', '134', '140']...442/617\n",
      "Processing ['236', '162', '125']...443/617\n",
      "Processing ['131', '82', '83']...444/617\n",
      "Processing ['201', '125', '132']...445/617\n",
      "Processing ['85', '63', '61']...446/617\n",
      "Processing ['47', '39', '34']...447/617\n",
      "Processing ['203', '128', '135']...448/617\n",
      "Processing ['237', '150', '154']...449/617\n",
      "Processing ['169', '110', '112']...450/617\n",
      "Processing ['197', '123', '130']...451/617\n",
      "Processing ['41', '34', '31']...452/617\n",
      "Processing ['36', '32', '28']...453/617\n",
      "Processing ['69', '49', '48']...454/617\n",
      "Processing ['148', '206', '201']...455/617\n",
      "Processing ['208', '127', '133']...456/617\n",
      "Processing ['189', '118', '125']...457/617\n",
      "Processing ['40', '36', '33']...458/617\n",
      "Processing ['36', '32', '26']...459/617\n",
      "Processing ['58', '84', '73']...460/617\n",
      "Processing ['159', '207', '198']...461/617\n",
      "Processing ['223', '134', '143']...462/617\n",
      "Processing ['159', '103', '104']...463/617\n",
      "Processing ['123', '86', '85']...464/617\n",
      "Processing ['44', '40', '35']...465/617\n",
      "Processing ['75', '171', '149']...466/617\n",
      "Processing ['148', '208', '199']...467/617\n",
      "Processing ['233', '144', '150']...468/617\n",
      "Processing ['167', '105', '105']...469/617\n",
      "Processing ['162', '103', '108']...470/617\n",
      "Processing ['50', '42', '38']...471/617\n",
      "Processing ['69', '169', '147']...472/617\n",
      "Processing ['148', '208', '198']...473/617\n",
      "Processing ['207', '136', '138']...474/617\n",
      "Processing ['164', '106', '111']...475/617\n",
      "Processing ['186', '119', '128']...476/617\n",
      "Processing ['61', '53', '45']...477/617\n",
      "Processing ['38', '34', '30']...478/617\n",
      "Processing ['72', '178', '153']...479/617\n",
      "Processing ['201', '191', '104']...480/617\n",
      "Processing ['177', '117', '105']...481/617\n",
      "Processing ['186', '135', '75']...482/617\n",
      "Processing ['215', '136', '147']...483/617\n",
      "Processing ['76', '68', '54']...484/617\n",
      "Processing ['64', '69', '64']...485/617\n",
      "Processing ['61', '156', '135']...486/617\n",
      "Processing ['156', '206', '199']...487/617\n",
      "Processing ['205', '164', '48']...488/617\n",
      "Processing ['188', '155', '46']...489/617\n",
      "Processing ['212', '140', '151']...490/617\n",
      "Processing ['70', '61', '44']...491/617\n",
      "Processing ['84', '93', '95']...492/617\n",
      "Processing ['35', '31', '28']...493/617\n",
      "Processing ['81', '168', '148']...494/617\n",
      "Processing ['208', '165', '49']...495/617\n",
      "Processing ['186', '150', '44']...496/617\n",
      "Processing ['135', '94', '62']...497/617\n",
      "Processing ['145', '118', '47']...498/617\n",
      "Processing ['93', '102', '104']...499/617\n",
      "Processing ['59', '131', '115']...500/617\n",
      "Processing ['236', '190', '60']...501/617\n",
      "Processing ['165', '131', '46']...502/617\n",
      "Processing ['97', '73', '33']...503/617\n",
      "Processing ['129', '105', '40']...504/617\n",
      "Processing ['35', '35', '29']...505/617\n",
      "Processing ['59', '109', '94']...506/617\n",
      "Processing ['76', '176', '154']...507/617\n",
      "Processing ['238', '193', '58']...508/617\n",
      "Processing ['148', '123', '45']...509/617\n",
      "Processing ['145', '116', '47']...510/617\n",
      "Processing ['208', '170', '50']...511/617\n",
      "Processing ['61', '65', '63']...512/617\n",
      "Processing ['61', '156', '137']...513/617\n",
      "Processing ['143', '205', '203']...514/617\n",
      "Processing ['224', '178', '52']...515/617\n",
      "Processing ['204', '163', '49']...516/617\n",
      "Processing ['126', '103', '41']...517/617\n",
      "Processing ['144', '114', '41']...518/617\n",
      "Processing ['40', '39', '36']...519/617\n",
      "Processing ['59', '48', '32']...520/617\n",
      "Processing ['67', '170', '149']...521/617\n",
      "Processing ['235', '189', '59']...522/617\n",
      "Processing ['226', '179', '53']...523/617\n",
      "Processing ['210', '167', '50']...524/617\n",
      "Processing ['197', '155', '47']...525/617\n",
      "Processing ['132', '106', '43']...526/617\n",
      "Processing ['82', '79', '61']...527/617\n",
      "Processing ['64', '141', '125']...528/617\n",
      "Processing ['79', '165', '146']...529/617\n",
      "Processing ['225', '177', '50']...530/617\n",
      "Processing ['225', '181', '48']...531/617\n",
      "Processing ['137', '106', '40']...532/617\n",
      "Processing ['193', '153', '49']...533/617\n",
      "Processing ['42', '36', '28']...534/617\n",
      "Processing ['81', '170', '151']...535/617\n",
      "Processing ['143', '205', '198']...536/617\n",
      "Processing ['231', '185', '52']...537/617\n",
      "Processing ['202', '155', '44']...538/617\n",
      "Processing ['197', '153', '45']...539/617\n",
      "Processing ['197', '154', '51']...540/617\n",
      "Processing ['43', '37', '29']...541/617\n",
      "Processing ['112', '165', '155']...542/617\n",
      "Processing ['64', '161', '143']...543/617\n",
      "Processing ['218', '172', '51']...544/617\n",
      "Processing ['156', '124', '43']...545/617\n",
      "Processing ['147', '120', '44']...546/617\n",
      "Processing ['137', '107', '42']...547/617\n",
      "Processing ['44', '39', '32']...548/617\n",
      "Processing ['128', '185', '171']...549/617\n",
      "Processing ['118', '190', '178']...550/617\n",
      "Processing ['221', '175', '49']...551/617\n",
      "Processing ['156', '125', '44']...552/617\n",
      "Processing ['127', '98', '39']...553/617\n",
      "Processing ['67', '58', '37']...554/617\n",
      "Processing ['133', '196', '190']...555/617\n",
      "Processing ['148', '200', '186']...556/617\n",
      "Processing ['239', '192', '59']...557/617\n",
      "Processing ['224', '176', '53']...558/617\n",
      "Processing ['160', '122', '44']...559/617\n",
      "Processing ['113', '87', '36']...560/617\n",
      "Processing ['119', '177', '168']...561/617\n",
      "Processing ['222', '179', '51']...562/617\n",
      "Processing ['185', '147', '47']...563/617\n",
      "Processing ['109', '91', '39']...564/617\n",
      "Processing ['175', '139', '45']...565/617\n",
      "Processing ['170', '135', '47']...566/617\n",
      "Processing ['135', '201', '189']...567/617\n",
      "Processing ['200', '156', '49']...568/617\n",
      "Processing ['182', '143', '51']...569/617\n",
      "Processing ['193', '152', '52']...570/617\n",
      "Processing ['98', '80', '42']...571/617\n",
      "Processing ['132', '196', '183']...572/617\n",
      "Processing ['220', '177', '53']...573/617\n",
      "Processing ['219', '172', '50']...574/617\n",
      "Processing ['96', '81', '43']...575/617\n",
      "Processing ['88', '77', '42']...576/617\n",
      "Processing ['156', '204', '195']...577/617\n",
      "Processing ['167', '132', '46']...578/617\n",
      "Processing ['193', '147', '50']...579/617\n",
      "Processing ['84', '69', '38']...580/617\n",
      "Processing ['122', '103', '44']...581/617\n",
      "Processing ['147', '205', '189']...582/617\n",
      "Processing ['204', '164', '51']...583/617\n",
      "Processing ['120', '96', '44']...584/617\n",
      "Processing ['189', '151', '49']...585/617\n",
      "Processing ['141', '115', '45']...586/617\n",
      "Processing ['149', '200', '183']...587/617\n",
      "Processing ['173', '140', '48']...588/617\n",
      "Processing ['203', '163', '52']...589/617\n",
      "Processing ['176', '136', '48']...590/617\n",
      "Processing ['111', '91', '43']...591/617\n",
      "Processing ['51', '44', '31']...592/617\n",
      "Processing ['159', '156', '89']...593/617\n",
      "Processing ['82', '69', '39']...594/617\n",
      "Processing ['122', '100', '45']...595/617\n",
      "Processing ['52', '47', '33']...596/617\n",
      "Processing ['51', '47', '35']...597/617\n"
     ]
    },
    {
     "name": "stdout",
     "output_type": "stream",
     "text": [
      "Processing ['148', '205', '191']...598/617\n",
      "Processing ['117', '103', '55']...599/617\n",
      "Processing ['152', '130', '62']...600/617\n",
      "Processing ['87', '71', '42']...601/617\n",
      "Processing ['133', '163', '146']...602/617\n",
      "Processing ['114', '157', '142']...603/617\n",
      "Processing ['106', '120', '93']...604/617\n",
      "Processing ['134', '105', '44']...605/617\n",
      "Processing ['174', '160', '87']...606/617\n",
      "Processing ['76', '76', '48']...607/617\n",
      "Processing ['137', '185', '172']...608/617\n",
      "Processing ['96', '127', '117']...609/617\n",
      "Processing ['135', '192', '186']...610/617\n",
      "Processing ['138', '183', '171']...611/617\n",
      "Processing ['145', '203', '200']...612/617\n",
      "Processing ['145', '205', '193']...613/617\n",
      "Processing ['140', '200', '194']...614/617\n",
      "Processing ['156', '202', '194']...615/617\n",
      "Processing ['138', '200', '196']...616/617\n",
      "Processing ['146', '200', '189']...617/617\n"
     ]
    },
    {
     "data": {
      "text/plain": [
       "['88d8c0',\n",
       " 'e5b73b',\n",
       " 'ff9999',\n",
       " '96ded1',\n",
       " 'ef98aa',\n",
       " 'e18e96',\n",
       " '1a2421',\n",
       " 'a0d6b4',\n",
       " 'd4af37',\n",
       " 'd7837f',\n",
       " 'b78727',\n",
       " '3d2b1f',\n",
       " 'cba135',\n",
       " 'c08081',\n",
       " 'b57281',\n",
       " '3eb489',\n",
       " '43b3ae',\n",
       " '9ab973',\n",
       " '87a96b',\n",
       " 'bdb76b',\n",
       " '96c8a2',\n",
       " '8fbc8f',\n",
       " '6c541e',\n",
       " 'c5b358',\n",
       " '4b5320',\n",
       " 'b5a642',\n",
       " '6f4e37',\n",
       " '967117',\n",
       " '483c32',\n",
       " '826644',\n",
       " '654321',\n",
       " '4b3621',\n",
       " '778899',\n",
       " '414a4c',\n",
       " '3c341f',\n",
       " '91a3b0',\n",
       " '5f9ea0',\n",
       " '635147',\n",
       " 'b76e79',\n",
       " '4d5d53',\n",
       " '996666',\n",
       " '836953',\n",
       " 'b87333',\n",
       " 'deaa88',\n",
       " '99badd',\n",
       " 'f78fa7',\n",
       " '343434',\n",
       " '66424d',\n",
       " '8b8589',\n",
       " 'cc8899',\n",
       " '893f45',\n",
       " '701c1c',\n",
       " '645452',\n",
       " '321414',\n",
       " '674846',\n",
       " 'e4717a',\n",
       " 'e3a857',\n",
       " 'c9c0bb',\n",
       " '696969',\n",
       " 'af4035',\n",
       " '722f37',\n",
       " '7c4848',\n",
       " 'b31b1b',\n",
       " 'e66771',\n",
       " '3c1414',\n",
       " 'e5aa70',\n",
       " 'a9a9a9',\n",
       " '704241',\n",
       " 'cfb53b',\n",
       " 'b94e48',\n",
       " 'b39eb5',\n",
       " 'e1a95f',\n",
       " 'dea5a4',\n",
       " 'a2add0',\n",
       " 'aec6cf',\n",
       " '8c92ac',\n",
       " '905d5d',\n",
       " 'ad6f69',\n",
       " '6e7f80',\n",
       " 'e9967a',\n",
       " '50404d',\n",
       " '3b444b',\n",
       " 'a57164',\n",
       " 'cd853f',\n",
       " '555d50',\n",
       " '40826d',\n",
       " '49796b',\n",
       " 'f4c430',\n",
       " '3b3c36',\n",
       " '534b4f',\n",
       " '2f847c',\n",
       " '73a9c2',\n",
       " 'a0785a',\n",
       " '918151',\n",
       " '708090',\n",
       " '414833']"
      ]
     },
     "execution_count": 11,
     "metadata": {},
     "output_type": "execute_result"
    }
   ],
   "source": [
    "# I've noticed that not every consecutive pixel is a different color (only slight variations) \n",
    "# So I recommend splicing up detected_colors to improve run time\n",
    "color_codes = get_color_codes(detected_colors[0::10])\n",
    "color_codes"
   ]
  },
  {
   "cell_type": "code",
   "execution_count": 12,
   "id": "b06a9520",
   "metadata": {},
   "outputs": [
    {
     "name": "stdout",
     "output_type": "stream",
     "text": [
      "Total unique colors found in image: 96\n"
     ]
    }
   ],
   "source": [
    "print(f'Total unique colors found in image: {len(color_codes)}')"
   ]
  },
  {
   "cell_type": "markdown",
   "id": "41303b62",
   "metadata": {},
   "source": [
    "# Display main color and color tones in image"
   ]
  },
  {
   "cell_type": "markdown",
   "id": "037555b9",
   "metadata": {},
   "source": [
    "## Reminder: The first color is the dominant color in image!"
   ]
  },
  {
   "cell_type": "code",
   "execution_count": 13,
   "id": "acf1baad",
   "metadata": {
    "scrolled": true
   },
   "outputs": [
    {
     "name": "stdout",
     "output_type": "stream",
     "text": [
      "Closest color match: Pearl Aqua (#88d8c0)\n"
     ]
    },
    {
     "data": {
      "image/png": "[encoded data removed]",
      "text/plain": [
       "<Figure size 640x480 with 1 Axes>"
      ]
     },
     "metadata": {},
     "output_type": "display_data"
    },
    {
     "name": "stdout",
     "output_type": "stream",
     "text": [
      "Closest color match: Meat Brown (#e5b73b)\n"
     ]
    },
    {
     "data": {
      "image/png": "[encoded data removed]",
      "text/plain": [
       "<Figure size 640x480 with 1 Axes>"
      ]
     },
     "metadata": {},
     "output_type": "display_data"
    },
    {
     "name": "stdout",
     "output_type": "stream",
     "text": [
      "Closest color match: Light Salmon Pink (#ff9999)\n"
     ]
    },
    {
     "data": {
      "image/png": "[encoded data removed]",
      "text/plain": [
       "<Figure size 640x480 with 1 Axes>"
      ]
     },
     "metadata": {},
     "output_type": "display_data"
    },
    {
     "name": "stdout",
     "output_type": "stream",
     "text": [
      "Closest color match: Pale Robin Egg Blue (#96ded1)\n"
     ]
    },
    {
     "data": {
      "image/png": "[encoded data removed]",
      "text/plain": [
       "<Figure size 640x480 with 1 Axes>"
      ]
     },
     "metadata": {},
     "output_type": "display_data"
    },
    {
     "name": "stdout",
     "output_type": "stream",
     "text": [
      "Closest color match: Mauvelous (#ef98aa)\n"
     ]
    },
    {
     "data": {
      "image/png": "[encoded data removed]",
      "text/plain": [
       "<Figure size 640x480 with 1 Axes>"
      ]
     },
     "metadata": {},
     "output_type": "display_data"
    },
    {
     "name": "stdout",
     "output_type": "stream",
     "text": [
      "Closest color match: Ruddy Pink (#e18e96)\n"
     ]
    },
    {
     "data": {
      "image/png": "[encoded data removed]",
      "text/plain": [
       "<Figure size 640x480 with 1 Axes>"
      ]
     },
     "metadata": {},
     "output_type": "display_data"
    },
    {
     "name": "stdout",
     "output_type": "stream",
     "text": [
      "Closest color match: Dark Jungle Green (#1a2421)\n"
     ]
    },
    {
     "data": {
      "image/png": "[encoded data removed]",
      "text/plain": [
       "<Figure size 640x480 with 1 Axes>"
      ]
     },
     "metadata": {},
     "output_type": "display_data"
    },
    {
     "name": "stdout",
     "output_type": "stream",
     "text": [
      "Closest color match: Turquoise Green (#a0d6b4)\n"
     ]
    },
    {
     "data": {
      "image/png": "[encoded data removed]",
      "text/plain": [
       "<Figure size 640x480 with 1 Axes>"
      ]
     },
     "metadata": {},
     "output_type": "display_data"
    },
    {
     "name": "stdout",
     "output_type": "stream",
     "text": [
      "Closest color match: Gold (Metallic) (#d4af37)\n"
     ]
    },
    {
     "data": {
      "image/png": "[encoded data removed]",
      "text/plain": [
       "<Figure size 640x480 with 1 Axes>"
      ]
     },
     "metadata": {},
     "output_type": "display_data"
    },
    {
     "name": "stdout",
     "output_type": "stream",
     "text": [
      "Closest color match: New York Pink (#d7837f)\n"
     ]
    },
    {
     "data": {
      "image/png": "[encoded data removed]",
      "text/plain": [
       "<Figure size 640x480 with 1 Axes>"
      ]
     },
     "metadata": {},
     "output_type": "display_data"
    },
    {
     "name": "stdout",
     "output_type": "stream",
     "text": [
      "Closest color match: University Of California Gold (#b78727)\n"
     ]
    },
    {
     "data": {
      "image/png": "[encoded data removed]",
      "text/plain": [
       "<Figure size 640x480 with 1 Axes>"
      ]
     },
     "metadata": {},
     "output_type": "display_data"
    },
    {
     "name": "stdout",
     "output_type": "stream",
     "text": [
      "Closest color match: Bistre (#3d2b1f)\n"
     ]
    },
    {
     "data": {
      "image/png": "[encoded data removed]",
      "text/plain": [
       "<Figure size 640x480 with 1 Axes>"
      ]
     },
     "metadata": {},
     "output_type": "display_data"
    },
    {
     "name": "stdout",
     "output_type": "stream",
     "text": [
      "Closest color match: Satin Sheen Gold (#cba135)\n"
     ]
    },
    {
     "data": {
      "image/png": "[encoded data removed]",
      "text/plain": [
       "<Figure size 640x480 with 1 Axes>"
      ]
     },
     "metadata": {},
     "output_type": "display_data"
    },
    {
     "name": "stdout",
     "output_type": "stream",
     "text": [
      "Closest color match: Old Rose (#c08081)\n"
     ]
    },
    {
     "data": {
      "image/png": "[encoded data removed]",
      "text/plain": [
       "<Figure size 640x480 with 1 Axes>"
      ]
     },
     "metadata": {},
     "output_type": "display_data"
    },
    {
     "name": "stdout",
     "output_type": "stream",
     "text": [
      "Closest color match: Turkish Rose (#b57281)\n"
     ]
    },
    {
     "data": {
      "image/png": "[encoded data removed]",
      "text/plain": [
       "<Figure size 640x480 with 1 Axes>"
      ]
     },
     "metadata": {},
     "output_type": "display_data"
    },
    {
     "name": "stdout",
     "output_type": "stream",
     "text": [
      "Closest color match: Mint (#3eb489)\n"
     ]
    },
    {
     "data": {
      "image/png": "[encoded data removed]",
      "text/plain": [
       "<Figure size 640x480 with 1 Axes>"
      ]
     },
     "metadata": {},
     "output_type": "display_data"
    },
    {
     "name": "stdout",
     "output_type": "stream",
     "text": [
      "Closest color match: Verdigris (#43b3ae)\n"
     ]
    },
    {
     "data": {
      "image/png": "[encoded data removed]",
      "text/plain": [
       "<Figure size 640x480 with 1 Axes>"
      ]
     },
     "metadata": {},
     "output_type": "display_data"
    },
    {
     "name": "stdout",
     "output_type": "stream",
     "text": [
      "Closest color match: Olivine (#9ab973)\n"
     ]
    },
    {
     "data": {
      "image/png": "[encoded data removed]",
      "text/plain": [
       "<Figure size 640x480 with 1 Axes>"
      ]
     },
     "metadata": {},
     "output_type": "display_data"
    },
    {
     "name": "stdout",
     "output_type": "stream",
     "text": [
      "Closest color match: Asparagus (#87a96b)\n"
     ]
    },
    {
     "data": {
      "image/png": "[encoded data removed]",
      "text/plain": [
       "<Figure size 640x480 with 1 Axes>"
      ]
     },
     "metadata": {},
     "output_type": "display_data"
    },
    {
     "name": "stdout",
     "output_type": "stream",
     "text": [
      "Closest color match: Dark Khaki (#bdb76b)\n"
     ]
    },
    {
     "data": {
      "image/png": "[encoded data removed]",
      "text/plain": [
       "<Figure size 640x480 with 1 Axes>"
      ]
     },
     "metadata": {},
     "output_type": "display_data"
    },
    {
     "name": "stdout",
     "output_type": "stream",
     "text": [
      "Closest color match: Eton Blue (#96c8a2)\n"
     ]
    },
    {
     "data": {
      "image/png": "[encoded data removed]",
      "text/plain": [
       "<Figure size 640x480 with 1 Axes>"
      ]
     },
     "metadata": {},
     "output_type": "display_data"
    },
    {
     "name": "stdout",
     "output_type": "stream",
     "text": [
      "Closest color match: Dark Sea Green (#8fbc8f)\n"
     ]
    },
    {
     "data": {
      "image/png": "[encoded data removed]",
      "text/plain": [
       "<Figure size 640x480 with 1 Axes>"
      ]
     },
     "metadata": {},
     "output_type": "display_data"
    },
    {
     "name": "stdout",
     "output_type": "stream",
     "text": [
      "Closest color match: Field Drab (#6c541e)\n"
     ]
    },
    {
     "data": {
      "image/png": "[encoded data removed]",
      "text/plain": [
       "<Figure size 640x480 with 1 Axes>"
      ]
     },
     "metadata": {},
     "output_type": "display_data"
    },
    {
     "name": "stdout",
     "output_type": "stream",
     "text": [
      "Closest color match: Vegas Gold (#c5b358)\n"
     ]
    },
    {
     "data": {
      "image/png": "[encoded data removed]",
      "text/plain": [
       "<Figure size 640x480 with 1 Axes>"
      ]
     },
     "metadata": {},
     "output_type": "display_data"
    },
    {
     "name": "stdout",
     "output_type": "stream",
     "text": [
      "Closest color match: Army Green (#4b5320)\n"
     ]
    },
    {
     "data": {
      "image/png": "[encoded data removed]",
      "text/plain": [
       "<Figure size 640x480 with 1 Axes>"
      ]
     },
     "metadata": {},
     "output_type": "display_data"
    },
    {
     "name": "stdout",
     "output_type": "stream",
     "text": [
      "Closest color match: Brass (#b5a642)\n"
     ]
    },
    {
     "data": {
      "image/png": "[encoded data removed]",
      "text/plain": [
       "<Figure size 640x480 with 1 Axes>"
      ]
     },
     "metadata": {},
     "output_type": "display_data"
    },
    {
     "name": "stdout",
     "output_type": "stream",
     "text": [
      "Closest color match: Coffee (#6f4e37)\n"
     ]
    },
    {
     "data": {
      "image/png": "[encoded data removed]",
      "text/plain": [
       "<Figure size 640x480 with 1 Axes>"
      ]
     },
     "metadata": {},
     "output_type": "display_data"
    },
    {
     "name": "stdout",
     "output_type": "stream",
     "text": [
      "Closest color match: Drab (#967117)\n"
     ]
    },
    {
     "data": {
      "image/png": "[encoded data removed]",
      "text/plain": [
       "<Figure size 640x480 with 1 Axes>"
      ]
     },
     "metadata": {},
     "output_type": "display_data"
    },
    {
     "name": "stdout",
     "output_type": "stream",
     "text": [
      "Closest color match: Dark Lava (#483c32)\n"
     ]
    },
    {
     "data": {
      "image/png": "[encoded data removed]",
      "text/plain": [
       "<Figure size 640x480 with 1 Axes>"
      ]
     },
     "metadata": {},
     "output_type": "display_data"
    },
    {
     "name": "stdout",
     "output_type": "stream",
     "text": [
      "Closest color match: Raw Umber (#826644)\n"
     ]
    },
    {
     "data": {
      "image/png": "[encoded data removed]",
      "text/plain": [
       "<Figure size 640x480 with 1 Axes>"
      ]
     },
     "metadata": {},
     "output_type": "display_data"
    },
    {
     "name": "stdout",
     "output_type": "stream",
     "text": [
      "Closest color match: Dark Brown (#654321)\n"
     ]
    },
    {
     "data": {
      "image/png": "[encoded data removed]",
      "text/plain": [
       "<Figure size 640x480 with 1 Axes>"
      ]
     },
     "metadata": {},
     "output_type": "display_data"
    },
    {
     "name": "stdout",
     "output_type": "stream",
     "text": [
      "Closest color match: Café Noir (#4b3621)\n"
     ]
    },
    {
     "data": {
      "image/png": "[encoded data removed]",
      "text/plain": [
       "<Figure size 640x480 with 1 Axes>"
      ]
     },
     "metadata": {},
     "output_type": "display_data"
    },
    {
     "name": "stdout",
     "output_type": "stream",
     "text": [
      "Closest color match: Light Slate Gray (#778899)\n"
     ]
    },
    {
     "data": {
      "image/png": "[encoded data removed]",
      "text/plain": [
       "<Figure size 640x480 with 1 Axes>"
      ]
     },
     "metadata": {},
     "output_type": "display_data"
    },
    {
     "name": "stdout",
     "output_type": "stream",
     "text": [
      "Closest color match: Outer Space (#414a4c)\n"
     ]
    },
    {
     "data": {
      "image/png": "[encoded data removed]",
      "text/plain": [
       "<Figure size 640x480 with 1 Axes>"
      ]
     },
     "metadata": {},
     "output_type": "display_data"
    },
    {
     "name": "stdout",
     "output_type": "stream",
     "text": [
      "Closest color match: Olive Drab #7 (#3c341f)\n"
     ]
    },
    {
     "data": {
      "image/png": "[encoded data removed]",
      "text/plain": [
       "<Figure size 640x480 with 1 Axes>"
      ]
     },
     "metadata": {},
     "output_type": "display_data"
    },
    {
     "name": "stdout",
     "output_type": "stream",
     "text": [
      "Closest color match: Cadet Grey (#91a3b0)\n"
     ]
    },
    {
     "data": {
      "image/png": "[encoded data removed]",
      "text/plain": [
       "<Figure size 640x480 with 1 Axes>"
      ]
     },
     "metadata": {},
     "output_type": "display_data"
    },
    {
     "name": "stdout",
     "output_type": "stream",
     "text": [
      "Closest color match: Cadet Blue (#5f9ea0)\n"
     ]
    },
    {
     "data": {
      "image/png": "[encoded data removed]",
      "text/plain": [
       "<Figure size 640x480 with 1 Axes>"
      ]
     },
     "metadata": {},
     "output_type": "display_data"
    },
    {
     "name": "stdout",
     "output_type": "stream",
     "text": [
      "Closest color match: Umber (#635147)\n"
     ]
    },
    {
     "data": {
      "image/png": "[encoded data removed]",
      "text/plain": [
       "<Figure size 640x480 with 1 Axes>"
      ]
     },
     "metadata": {},
     "output_type": "display_data"
    },
    {
     "name": "stdout",
     "output_type": "stream",
     "text": [
      "Closest color match: Rose Gold (#b76e79)\n"
     ]
    },
    {
     "data": {
      "image/png": "[encoded data removed]",
      "text/plain": [
       "<Figure size 640x480 with 1 Axes>"
      ]
     },
     "metadata": {},
     "output_type": "display_data"
    },
    {
     "name": "stdout",
     "output_type": "stream",
     "text": [
      "Closest color match: Feldgrau (#4d5d53)\n"
     ]
    },
    {
     "data": {
      "image/png": "[encoded data removed]",
      "text/plain": [
       "<Figure size 640x480 with 1 Axes>"
      ]
     },
     "metadata": {},
     "output_type": "display_data"
    },
    {
     "name": "stdout",
     "output_type": "stream",
     "text": [
      "Closest color match: Copper Rose (#996666)\n"
     ]
    },
    {
     "data": {
      "image/png": "[encoded data removed]",
      "text/plain": [
       "<Figure size 640x480 with 1 Axes>"
      ]
     },
     "metadata": {},
     "output_type": "display_data"
    },
    {
     "name": "stdout",
     "output_type": "stream",
     "text": [
      "Closest color match: Pastel Brown (#836953)\n"
     ]
    },
    {
     "data": {
      "image/png": "[encoded data removed]",
      "text/plain": [
       "<Figure size 640x480 with 1 Axes>"
      ]
     },
     "metadata": {},
     "output_type": "display_data"
    },
    {
     "name": "stdout",
     "output_type": "stream",
     "text": [
      "Closest color match: Copper (#b87333)\n"
     ]
    },
    {
     "data": {
      "image/png": "[encoded data removed]",
      "text/plain": [
       "<Figure size 640x480 with 1 Axes>"
      ]
     },
     "metadata": {},
     "output_type": "display_data"
    },
    {
     "name": "stdout",
     "output_type": "stream",
     "text": [
      "Closest color match: Tumbleweed (#deaa88)\n"
     ]
    },
    {
     "data": {
      "image/png": "[encoded data removed]",
      "text/plain": [
       "<Figure size 640x480 with 1 Axes>"
      ]
     },
     "metadata": {},
     "output_type": "display_data"
    },
    {
     "name": "stdout",
     "output_type": "stream",
     "text": [
      "Closest color match: Carolina Blue (#99badd)\n"
     ]
    },
    {
     "data": {
      "image/png": "[encoded data removed]",
      "text/plain": [
       "<Figure size 640x480 with 1 Axes>"
      ]
     },
     "metadata": {},
     "output_type": "display_data"
    },
    {
     "name": "stdout",
     "output_type": "stream",
     "text": [
      "Closest color match: Pink Sherbet (#f78fa7)\n"
     ]
    },
    {
     "data": {
      "image/png": "[encoded data removed]",
      "text/plain": [
       "<Figure size 640x480 with 1 Axes>"
      ]
     },
     "metadata": {},
     "output_type": "display_data"
    },
    {
     "name": "stdout",
     "output_type": "stream",
     "text": [
      "Closest color match: Jet (#343434)\n"
     ]
    },
    {
     "data": {
      "image/png": "[encoded data removed]",
      "text/plain": [
       "<Figure size 640x480 with 1 Axes>"
      ]
     },
     "metadata": {},
     "output_type": "display_data"
    },
    {
     "name": "stdout",
     "output_type": "stream",
     "text": [
      "Closest color match: Deep Tuscan Red (#66424d)\n"
     ]
    },
    {
     "data": {
      "image/png": "[encoded data removed]",
      "text/plain": [
       "<Figure size 640x480 with 1 Axes>"
      ]
     },
     "metadata": {},
     "output_type": "display_data"
    },
    {
     "name": "stdout",
     "output_type": "stream",
     "text": [
      "Closest color match: Taupe Gray (#8b8589)\n"
     ]
    },
    {
     "data": {
      "image/png": "[encoded data removed]",
      "text/plain": [
       "<Figure size 640x480 with 1 Axes>"
      ]
     },
     "metadata": {},
     "output_type": "display_data"
    },
    {
     "name": "stdout",
     "output_type": "stream",
     "text": [
      "Closest color match: Puce (#cc8899)\n"
     ]
    },
    {
     "data": {
      "image/png": "[encoded data removed]",
      "text/plain": [
       "<Figure size 640x480 with 1 Axes>"
      ]
     },
     "metadata": {},
     "output_type": "display_data"
    },
    {
     "name": "stdout",
     "output_type": "stream",
     "text": [
      "Closest color match: Cordovan (#893f45)\n"
     ]
    },
    {
     "data": {
      "image/png": "[encoded data removed]",
      "text/plain": [
       "<Figure size 640x480 with 1 Axes>"
      ]
     },
     "metadata": {},
     "output_type": "display_data"
    },
    {
     "name": "stdout",
     "output_type": "stream",
     "text": [
      "Closest color match: Persian Plum (#701c1c)\n"
     ]
    },
    {
     "data": {
      "image/png": "[encoded data removed]",
      "text/plain": [
       "<Figure size 640x480 with 1 Axes>"
      ]
     },
     "metadata": {},
     "output_type": "display_data"
    },
    {
     "name": "stdout",
     "output_type": "stream",
     "text": [
      "Closest color match: Wenge (#645452)\n"
     ]
    },
    {
     "data": {
      "image/png": "[encoded data removed]",
      "text/plain": [
       "<Figure size 640x480 with 1 Axes>"
      ]
     },
     "metadata": {},
     "output_type": "display_data"
    },
    {
     "name": "stdout",
     "output_type": "stream",
     "text": [
      "Closest color match: Seal Brown (#321414)\n"
     ]
    },
    {
     "data": {
      "image/png": "[encoded data removed]",
      "text/plain": [
       "<Figure size 640x480 with 1 Axes>"
      ]
     },
     "metadata": {},
     "output_type": "display_data"
    },
    {
     "name": "stdout",
     "output_type": "stream",
     "text": [
      "Closest color match: Rose Ebony (#674846)\n"
     ]
    },
    {
     "data": {
      "image/png": "[encoded data removed]",
      "text/plain": [
       "<Figure size 640x480 with 1 Axes>"
      ]
     },
     "metadata": {},
     "output_type": "display_data"
    },
    {
     "name": "stdout",
     "output_type": "stream",
     "text": [
      "Closest color match: Candy Pink (#e4717a)\n"
     ]
    },
    {
     "data": {
      "image/png": "[encoded data removed]",
      "text/plain": [
       "<Figure size 640x480 with 1 Axes>"
      ]
     },
     "metadata": {},
     "output_type": "display_data"
    },
    {
     "name": "stdout",
     "output_type": "stream",
     "text": [
      "Closest color match: Indian Yellow (#e3a857)\n"
     ]
    },
    {
     "data": {
      "image/png": "[encoded data removed]",
      "text/plain": [
       "<Figure size 640x480 with 1 Axes>"
      ]
     },
     "metadata": {},
     "output_type": "display_data"
    },
    {
     "name": "stdout",
     "output_type": "stream",
     "text": [
      "Closest color match: Pale Silver (#c9c0bb)\n"
     ]
    },
    {
     "data": {
      "image/png": "[encoded data removed]",
      "text/plain": [
       "<Figure size 640x480 with 1 Axes>"
      ]
     },
     "metadata": {},
     "output_type": "display_data"
    },
    {
     "name": "stdout",
     "output_type": "stream",
     "text": [
      "Closest color match: Dim Gray (#696969)\n"
     ]
    },
    {
     "data": {
      "image/png": "[encoded data removed]",
      "text/plain": [
       "<Figure size 640x480 with 1 Axes>"
      ]
     },
     "metadata": {},
     "output_type": "display_data"
    },
    {
     "name": "stdout",
     "output_type": "stream",
     "text": [
      "Closest color match: Medium Carmine (#af4035)\n"
     ]
    },
    {
     "data": {
      "image/png": "[encoded data removed]",
      "text/plain": [
       "<Figure size 640x480 with 1 Axes>"
      ]
     },
     "metadata": {},
     "output_type": "display_data"
    },
    {
     "name": "stdout",
     "output_type": "stream",
     "text": [
      "Closest color match: Wine (#722f37)\n"
     ]
    },
    {
     "data": {
      "image/png": "[encoded data removed]",
      "text/plain": [
       "<Figure size 640x480 with 1 Axes>"
      ]
     },
     "metadata": {},
     "output_type": "display_data"
    },
    {
     "name": "stdout",
     "output_type": "stream",
     "text": [
      "Closest color match: Tuscan Red (#7c4848)\n"
     ]
    },
    {
     "data": {
      "image/png": "[encoded data removed]",
      "text/plain": [
       "<Figure size 640x480 with 1 Axes>"
      ]
     },
     "metadata": {},
     "output_type": "display_data"
    },
    {
     "name": "stdout",
     "output_type": "stream",
     "text": [
      "Closest color match: Carnelian (#b31b1b)\n"
     ]
    },
    {
     "data": {
      "image/png": "[encoded data removed]",
      "text/plain": [
       "<Figure size 640x480 with 1 Axes>"
      ]
     },
     "metadata": {},
     "output_type": "display_data"
    },
    {
     "name": "stdout",
     "output_type": "stream",
     "text": [
      "Closest color match: Light Carmine Pink (#e66771)\n"
     ]
    },
    {
     "data": {
      "image/png": "[encoded data removed]",
      "text/plain": [
       "<Figure size 640x480 with 1 Axes>"
      ]
     },
     "metadata": {},
     "output_type": "display_data"
    },
    {
     "name": "stdout",
     "output_type": "stream",
     "text": [
      "Closest color match: Dark Sienna (#3c1414)\n"
     ]
    },
    {
     "data": {
      "image/png": "[encoded data removed]",
      "text/plain": [
       "<Figure size 640x480 with 1 Axes>"
      ]
     },
     "metadata": {},
     "output_type": "display_data"
    },
    {
     "name": "stdout",
     "output_type": "stream",
     "text": [
      "Closest color match: Fawn (#e5aa70)\n"
     ]
    },
    {
     "data": {
      "image/png": "[encoded data removed]",
      "text/plain": [
       "<Figure size 640x480 with 1 Axes>"
      ]
     },
     "metadata": {},
     "output_type": "display_data"
    },
    {
     "name": "stdout",
     "output_type": "stream",
     "text": [
      "Closest color match: Dark Gray (#a9a9a9)\n"
     ]
    },
    {
     "data": {
      "image/png": "[encoded data removed]",
      "text/plain": [
       "<Figure size 640x480 with 1 Axes>"
      ]
     },
     "metadata": {},
     "output_type": "display_data"
    },
    {
     "name": "stdout",
     "output_type": "stream",
     "text": [
      "Closest color match: Deep Coffee (#704241)\n"
     ]
    },
    {
     "data": {
      "image/png": "[encoded data removed]",
      "text/plain": [
       "<Figure size 640x480 with 1 Axes>"
      ]
     },
     "metadata": {},
     "output_type": "display_data"
    },
    {
     "name": "stdout",
     "output_type": "stream",
     "text": [
      "Closest color match: Old Gold (#cfb53b)\n"
     ]
    },
    {
     "data": {
      "image/png": "[encoded data removed]",
      "text/plain": [
       "<Figure size 640x480 with 1 Axes>"
      ]
     },
     "metadata": {},
     "output_type": "display_data"
    },
    {
     "name": "stdout",
     "output_type": "stream",
     "text": [
      "Closest color match: Deep Chestnut (#b94e48)\n"
     ]
    },
    {
     "data": {
      "image/png": "[encoded data removed]",
      "text/plain": [
       "<Figure size 640x480 with 1 Axes>"
      ]
     },
     "metadata": {},
     "output_type": "display_data"
    },
    {
     "name": "stdout",
     "output_type": "stream",
     "text": [
      "Closest color match: Pastel Purple (#b39eb5)\n"
     ]
    },
    {
     "data": {
      "image/png": "[encoded data removed]",
      "text/plain": [
       "<Figure size 640x480 with 1 Axes>"
      ]
     },
     "metadata": {},
     "output_type": "display_data"
    },
    {
     "name": "stdout",
     "output_type": "stream",
     "text": [
      "Closest color match: Earth Yellow (#e1a95f)\n"
     ]
    },
    {
     "data": {
      "image/png": "[encoded data removed]",
      "text/plain": [
       "<Figure size 640x480 with 1 Axes>"
      ]
     },
     "metadata": {},
     "output_type": "display_data"
    },
    {
     "name": "stdout",
     "output_type": "stream",
     "text": [
      "Closest color match: Pastel Pink (#dea5a4)\n"
     ]
    },
    {
     "data": {
      "image/png": "[encoded data removed]",
      "text/plain": [
       "<Figure size 640x480 with 1 Axes>"
      ]
     },
     "metadata": {},
     "output_type": "display_data"
    },
    {
     "name": "stdout",
     "output_type": "stream",
     "text": [
      "Closest color match: Wild Blue Yonder (#a2add0)\n"
     ]
    },
    {
     "data": {
      "image/png": "[encoded data removed]",
      "text/plain": [
       "<Figure size 640x480 with 1 Axes>"
      ]
     },
     "metadata": {},
     "output_type": "display_data"
    },
    {
     "name": "stdout",
     "output_type": "stream",
     "text": [
      "Closest color match: Pastel Blue (#aec6cf)\n"
     ]
    },
    {
     "data": {
      "image/png": "[encoded data removed]",
      "text/plain": [
       "<Figure size 640x480 with 1 Axes>"
      ]
     },
     "metadata": {},
     "output_type": "display_data"
    },
    {
     "name": "stdout",
     "output_type": "stream",
     "text": [
      "Closest color match: Cool Grey (#8c92ac)\n"
     ]
    },
    {
     "data": {
      "image/png": "[encoded data removed]",
      "text/plain": [
       "<Figure size 640x480 with 1 Axes>"
      ]
     },
     "metadata": {},
     "output_type": "display_data"
    },
    {
     "name": "stdout",
     "output_type": "stream",
     "text": [
      "Closest color match: Rose Taupe (#905d5d)\n"
     ]
    },
    {
     "data": {
      "image/png": "[encoded data removed]",
      "text/plain": [
       "<Figure size 640x480 with 1 Axes>"
      ]
     },
     "metadata": {},
     "output_type": "display_data"
    },
    {
     "name": "stdout",
     "output_type": "stream",
     "text": [
      "Closest color match: Copper Penny (#ad6f69)\n"
     ]
    },
    {
     "data": {
      "image/png": "[encoded data removed]",
      "text/plain": [
       "<Figure size 640x480 with 1 Axes>"
      ]
     },
     "metadata": {},
     "output_type": "display_data"
    },
    {
     "name": "stdout",
     "output_type": "stream",
     "text": [
      "Closest color match: Aurometalsaurus (#6e7f80)\n"
     ]
    },
    {
     "data": {
      "image/png": "[encoded data removed]",
      "text/plain": [
       "<Figure size 640x480 with 1 Axes>"
      ]
     },
     "metadata": {},
     "output_type": "display_data"
    },
    {
     "name": "stdout",
     "output_type": "stream",
     "text": [
      "Closest color match: Dark Salmon (#e9967a)\n"
     ]
    },
    {
     "data": {
      "image/png": "[encoded data removed]",
      "text/plain": [
       "<Figure size 640x480 with 1 Axes>"
      ]
     },
     "metadata": {},
     "output_type": "display_data"
    },
    {
     "name": "stdout",
     "output_type": "stream",
     "text": [
      "Closest color match: Purple Taupe (#50404d)\n"
     ]
    },
    {
     "data": {
      "image/png": "[encoded data removed]",
      "text/plain": [
       "<Figure size 640x480 with 1 Axes>"
      ]
     },
     "metadata": {},
     "output_type": "display_data"
    },
    {
     "name": "stdout",
     "output_type": "stream",
     "text": [
      "Closest color match: Arsenic (#3b444b)\n"
     ]
    },
    {
     "data": {
      "image/png": "[encoded data removed]",
      "text/plain": [
       "<Figure size 640x480 with 1 Axes>"
      ]
     },
     "metadata": {},
     "output_type": "display_data"
    },
    {
     "name": "stdout",
     "output_type": "stream",
     "text": [
      "Closest color match: Blast-Off Bronze (#a57164)\n"
     ]
    },
    {
     "data": {
      "image/png": "[encoded data removed]",
      "text/plain": [
       "<Figure size 640x480 with 1 Axes>"
      ]
     },
     "metadata": {},
     "output_type": "display_data"
    },
    {
     "name": "stdout",
     "output_type": "stream",
     "text": [
      "Closest color match: Peru (#cd853f)\n"
     ]
    },
    {
     "data": {
      "image/png": "[encoded data removed]",
      "text/plain": [
       "<Figure size 640x480 with 1 Axes>"
      ]
     },
     "metadata": {},
     "output_type": "display_data"
    },
    {
     "name": "stdout",
     "output_type": "stream",
     "text": [
      "Closest color match: Ebony (#555d50)\n"
     ]
    },
    {
     "data": {
      "image/png": "[encoded data removed]",
      "text/plain": [
       "<Figure size 640x480 with 1 Axes>"
      ]
     },
     "metadata": {},
     "output_type": "display_data"
    },
    {
     "name": "stdout",
     "output_type": "stream",
     "text": [
      "Closest color match: Viridian (#40826d)\n"
     ]
    },
    {
     "data": {
      "image/png": "[encoded data removed]",
      "text/plain": [
       "<Figure size 640x480 with 1 Axes>"
      ]
     },
     "metadata": {},
     "output_type": "display_data"
    },
    {
     "name": "stdout",
     "output_type": "stream",
     "text": [
      "Closest color match: Hooker'S Green (#49796b)\n"
     ]
    },
    {
     "data": {
      "image/png": "[encoded data removed]",
      "text/plain": [
       "<Figure size 640x480 with 1 Axes>"
      ]
     },
     "metadata": {},
     "output_type": "display_data"
    },
    {
     "name": "stdout",
     "output_type": "stream",
     "text": [
      "Closest color match: Saffron (#f4c430)\n"
     ]
    },
    {
     "data": {
      "image/png": "[encoded data removed]",
      "text/plain": [
       "<Figure size 640x480 with 1 Axes>"
      ]
     },
     "metadata": {},
     "output_type": "display_data"
    },
    {
     "name": "stdout",
     "output_type": "stream",
     "text": [
      "Closest color match: Black Olive (#3b3c36)\n"
     ]
    },
    {
     "data": {
      "image/png": "[encoded data removed]",
      "text/plain": [
       "<Figure size 640x480 with 1 Axes>"
      ]
     },
     "metadata": {},
     "output_type": "display_data"
    },
    {
     "name": "stdout",
     "output_type": "stream",
     "text": [
      "Closest color match: Liver (#534b4f)\n"
     ]
    },
    {
     "data": {
      "image/png": "[encoded data removed]",
      "text/plain": [
       "<Figure size 640x480 with 1 Axes>"
      ]
     },
     "metadata": {},
     "output_type": "display_data"
    },
    {
     "name": "stdout",
     "output_type": "stream",
     "text": [
      "Closest color match: Celadon Green (#2f847c)\n"
     ]
    },
    {
     "data": {
      "image/png": "[encoded data removed]",
      "text/plain": [
       "<Figure size 640x480 with 1 Axes>"
      ]
     },
     "metadata": {},
     "output_type": "display_data"
    },
    {
     "name": "stdout",
     "output_type": "stream",
     "text": [
      "Closest color match: Moonstone Blue (#73a9c2)\n"
     ]
    },
    {
     "data": {
      "image/png": "[encoded data removed]",
      "text/plain": [
       "<Figure size 640x480 with 1 Axes>"
      ]
     },
     "metadata": {},
     "output_type": "display_data"
    },
    {
     "name": "stdout",
     "output_type": "stream",
     "text": [
      "Closest color match: Chamoisee (#a0785a)\n"
     ]
    },
    {
     "data": {
      "image/png": "[encoded data removed]",
      "text/plain": [
       "<Figure size 640x480 with 1 Axes>"
      ]
     },
     "metadata": {},
     "output_type": "display_data"
    },
    {
     "name": "stdout",
     "output_type": "stream",
     "text": [
      "Closest color match: Dark Tan (#918151)\n"
     ]
    },
    {
     "data": {
      "image/png": "[encoded data removed]",
      "text/plain": [
       "<Figure size 640x480 with 1 Axes>"
      ]
     },
     "metadata": {},
     "output_type": "display_data"
    },
    {
     "name": "stdout",
     "output_type": "stream",
     "text": [
      "Closest color match: Slate Gray (#708090)\n"
     ]
    },
    {
     "data": {
      "image/png": "[encoded data removed]",
      "text/plain": [
       "<Figure size 640x480 with 1 Axes>"
      ]
     },
     "metadata": {},
     "output_type": "display_data"
    },
    {
     "name": "stdout",
     "output_type": "stream",
     "text": [
      "Closest color match: Rifle Green (#414833)\n"
     ]
    },
    {
     "data": {
      "image/png": "[encoded data removed]",
      "text/plain": [
       "<Figure size 640x480 with 1 Axes>"
      ]
     },
     "metadata": {},
     "output_type": "display_data"
    }
   ],
   "source": [
    "import matplotlib.image as mpimg\n",
    "for color_code in color_codes:\n",
    "    # Define color path\n",
    "    colorfile = os.path.join('colors', color_code + '.png')\n",
    "    # Query color name associated with color code\n",
    "    color_name = colors[colors['code'] == f'#{color_code}']['color'].values[0]\n",
    "    # Read in imagefile\n",
    "    img = mpimg.imread(colorfile)\n",
    "    # Plot color match\n",
    "    imgplot = plt.imshow(img)\n",
    "    plt.axis('off')\n",
    "    print(f'Closest color match: {color_name} (#{color_code})')\n",
    "    plt.show()"
   ]
  },
  {
   "cell_type": "code",
   "execution_count": null,
   "id": "b7f41bcc",
   "metadata": {},
   "outputs": [],
   "source": []
  }
 ],
 "metadata": {
  "kernelspec": {
   "display_name": "Python 3 (ipykernel)",
   "language": "python",
   "name": "python3"
  },
  "language_info": {
   "codemirror_mode": {
    "name": "ipython",
    "version": 3
   },
   "file_extension": ".py",
   "mimetype": "text/x-python",
   "name": "python",
   "nbconvert_exporter": "python",
   "pygments_lexer": "ipython3",
   "version": "3.10.4"
  }
 },
 "nbformat": 4,
 "nbformat_minor": 5
}
